{
 "cells": [
  {
   "cell_type": "markdown",
   "id": "010db005",
   "metadata": {},
   "source": [
    "#cookbook"
   ]
  },
  {
   "cell_type": "markdown",
   "id": "f6bb4d72",
   "metadata": {},
   "source": [
    "#2022.7.5"
   ]
  },
  {
   "cell_type": "code",
   "execution_count": 62,
   "id": "db3ba2d7",
   "metadata": {},
   "outputs": [
    {
     "data": {
      "text/plain": [
       "260"
      ]
     },
     "execution_count": 62,
     "metadata": {},
     "output_type": "execute_result"
    }
   ],
   "source": [
    "20+20+16+16+21+13+12+25+25+15+13+14+15+14+21"
   ]
  },
  {
   "cell_type": "code",
   "execution_count": null,
   "id": "1c258e2b",
   "metadata": {},
   "outputs": [],
   "source": []
  },
  {
   "cell_type": "code",
   "execution_count": null,
   "id": "c613bc28",
   "metadata": {},
   "outputs": [],
   "source": [
    "# # 1.1 包含N个元素的元组或序列，分解为单独的变量 ###########################################"
   ]
  },
  {
   "cell_type": "code",
   "execution_count": 1,
   "id": "9bbaf068",
   "metadata": {},
   "outputs": [],
   "source": [
    "p=(1,2,3)"
   ]
  },
  {
   "cell_type": "code",
   "execution_count": 2,
   "id": "e1c83a6b",
   "metadata": {},
   "outputs": [],
   "source": [
    "x,y,z=p"
   ]
  },
  {
   "cell_type": "code",
   "execution_count": 28,
   "id": "f22c511b",
   "metadata": {},
   "outputs": [
    {
     "name": "stdout",
     "output_type": "stream",
     "text": [
      "1 2 3\n"
     ]
    }
   ],
   "source": [
    "print(x,y,z)"
   ]
  },
  {
   "cell_type": "code",
   "execution_count": null,
   "id": "0ec0cf15",
   "metadata": {},
   "outputs": [],
   "source": []
  },
  {
   "cell_type": "code",
   "execution_count": null,
   "id": "13bd5258",
   "metadata": {},
   "outputs": [],
   "source": []
  },
  {
   "cell_type": "code",
   "execution_count": 19,
   "id": "ee784959",
   "metadata": {},
   "outputs": [],
   "source": [
    "data=['ACME',50,91.1,(2012,12,21)]"
   ]
  },
  {
   "cell_type": "code",
   "execution_count": 30,
   "id": "920c81e8",
   "metadata": {},
   "outputs": [],
   "source": [
    "name,shares,price,data = data"
   ]
  },
  {
   "cell_type": "code",
   "execution_count": 31,
   "id": "d479bda8",
   "metadata": {},
   "outputs": [
    {
     "data": {
      "text/plain": [
       "'ACME'"
      ]
     },
     "execution_count": 31,
     "metadata": {},
     "output_type": "execute_result"
    }
   ],
   "source": [
    "name"
   ]
  },
  {
   "cell_type": "code",
   "execution_count": null,
   "id": "ab284c4b",
   "metadata": {},
   "outputs": [],
   "source": []
  },
  {
   "cell_type": "code",
   "execution_count": 32,
   "id": "aad3a41a",
   "metadata": {},
   "outputs": [
    {
     "data": {
      "text/plain": [
       "(2012, 12, 21)"
      ]
     },
     "execution_count": 32,
     "metadata": {},
     "output_type": "execute_result"
    }
   ],
   "source": [
    "data"
   ]
  },
  {
   "cell_type": "code",
   "execution_count": 33,
   "id": "1aef7020",
   "metadata": {},
   "outputs": [],
   "source": [
    "data=['ACME',50,91.1,(2012,12,21)]"
   ]
  },
  {
   "cell_type": "code",
   "execution_count": 21,
   "id": "50e06551",
   "metadata": {},
   "outputs": [],
   "source": [
    "name,shares,price,(year,mon,day)=data"
   ]
  },
  {
   "cell_type": "code",
   "execution_count": 34,
   "id": "656cfbda",
   "metadata": {},
   "outputs": [
    {
     "data": {
      "text/plain": [
       "'ACME'"
      ]
     },
     "execution_count": 34,
     "metadata": {},
     "output_type": "execute_result"
    }
   ],
   "source": [
    "name"
   ]
  },
  {
   "cell_type": "code",
   "execution_count": null,
   "id": "47a788d1",
   "metadata": {},
   "outputs": [],
   "source": []
  },
  {
   "cell_type": "code",
   "execution_count": null,
   "id": "6e543e47",
   "metadata": {},
   "outputs": [],
   "source": []
  },
  {
   "cell_type": "code",
   "execution_count": 24,
   "id": "7c955ff3",
   "metadata": {},
   "outputs": [],
   "source": [
    "asd='Hello'"
   ]
  },
  {
   "cell_type": "code",
   "execution_count": 25,
   "id": "a719f1a3",
   "metadata": {},
   "outputs": [],
   "source": [
    "a,s,d,f,g=asd"
   ]
  },
  {
   "cell_type": "code",
   "execution_count": 26,
   "id": "e9c9f669",
   "metadata": {},
   "outputs": [
    {
     "data": {
      "text/plain": [
       "'e'"
      ]
     },
     "execution_count": 26,
     "metadata": {},
     "output_type": "execute_result"
    }
   ],
   "source": [
    "s"
   ]
  },
  {
   "cell_type": "code",
   "execution_count": null,
   "id": "38cc2fbf",
   "metadata": {},
   "outputs": [],
   "source": []
  },
  {
   "cell_type": "code",
   "execution_count": 85,
   "id": "eee5e951",
   "metadata": {},
   "outputs": [
    {
     "ename": "ValueError",
     "evalue": "too many values to unpack (expected 3)",
     "output_type": "error",
     "traceback": [
      "\u001b[1;31m---------------------------------------------------------------------------\u001b[0m",
      "\u001b[1;31mValueError\u001b[0m                                Traceback (most recent call last)",
      "\u001b[1;32m~\\AppData\\Local\\Temp/ipykernel_19900/2003728916.py\u001b[0m in \u001b[0;36m<module>\u001b[1;34m\u001b[0m\n\u001b[0;32m      1\u001b[0m \u001b[1;31m### 用不会用到的变量获取要丢弃的位置，但不可缺少变量 ：\u001b[0m\u001b[1;33m\u001b[0m\u001b[1;33m\u001b[0m\u001b[0m\n\u001b[0;32m      2\u001b[0m \u001b[0masd\u001b[0m\u001b[1;33m=\u001b[0m\u001b[1;34m'hello'\u001b[0m\u001b[1;33m\u001b[0m\u001b[1;33m\u001b[0m\u001b[0m\n\u001b[1;32m----> 3\u001b[1;33m \u001b[0ma\u001b[0m\u001b[1;33m,\u001b[0m\u001b[0ms\u001b[0m\u001b[1;33m,\u001b[0m\u001b[0md\u001b[0m\u001b[1;33m=\u001b[0m\u001b[0masd\u001b[0m\u001b[1;33m\u001b[0m\u001b[1;33m\u001b[0m\u001b[0m\n\u001b[0m",
      "\u001b[1;31mValueError\u001b[0m: too many values to unpack (expected 3)"
     ]
    }
   ],
   "source": [
    "### 用不会用到的变量获取要丢弃的位置，但不可缺少变量 ：\n",
    "asd='hello'\n",
    "a,s,d=asd"
   ]
  },
  {
   "cell_type": "code",
   "execution_count": null,
   "id": "8e6a32eb",
   "metadata": {},
   "outputs": [],
   "source": []
  },
  {
   "cell_type": "code",
   "execution_count": 38,
   "id": "ba72984a",
   "metadata": {},
   "outputs": [],
   "source": [
    "# # 1.2 任意长度的可迭代对象中分解元素 ##############################################################"
   ]
  },
  {
   "cell_type": "code",
   "execution_count": 41,
   "id": "b6192b94",
   "metadata": {},
   "outputs": [],
   "source": [
    "#去掉首尾的操作"
   ]
  },
  {
   "cell_type": "code",
   "execution_count": 54,
   "id": "9b95984d",
   "metadata": {},
   "outputs": [],
   "source": [
    "import numpy as np"
   ]
  },
  {
   "cell_type": "code",
   "execution_count": 55,
   "id": "04c40db9",
   "metadata": {},
   "outputs": [],
   "source": [
    "def avg(grades):\n",
    "    return sum(grades)/len(grades)"
   ]
  },
  {
   "cell_type": "code",
   "execution_count": 56,
   "id": "eea60bf1",
   "metadata": {},
   "outputs": [],
   "source": [
    "def drop_FirstandLast(grades):\n",
    "    first,*middle,last=grades\n",
    "    return avg(middle)"
   ]
  },
  {
   "cell_type": "code",
   "execution_count": 57,
   "id": "537e31f9",
   "metadata": {},
   "outputs": [
    {
     "data": {
      "text/plain": [
       "4.0"
      ]
     },
     "execution_count": 57,
     "metadata": {},
     "output_type": "execute_result"
    }
   ],
   "source": [
    "asd=drop_FirstandLast([1,2,3,4,5,6,7])\n",
    "asd"
   ]
  },
  {
   "cell_type": "code",
   "execution_count": null,
   "id": "63336648",
   "metadata": {},
   "outputs": [],
   "source": []
  },
  {
   "cell_type": "code",
   "execution_count": 58,
   "id": "065e8b2f",
   "metadata": {},
   "outputs": [],
   "source": [
    "#姓名 邮箱 任意数量的电话号码"
   ]
  },
  {
   "cell_type": "code",
   "execution_count": 59,
   "id": "892d0f7a",
   "metadata": {},
   "outputs": [],
   "source": [
    "record=('zhang','asdfghjkl@qq.com','1111111','2222222','123 4322 3445')"
   ]
  },
  {
   "cell_type": "code",
   "execution_count": 60,
   "id": "a7c4f3e9",
   "metadata": {},
   "outputs": [],
   "source": [
    "name,email,*phone_numbers = record"
   ]
  },
  {
   "cell_type": "code",
   "execution_count": 61,
   "id": "24db5a8a",
   "metadata": {},
   "outputs": [
    {
     "data": {
      "text/plain": [
       "['1111111', '2222222', '123 4322 3445']"
      ]
     },
     "execution_count": 61,
     "metadata": {},
     "output_type": "execute_result"
    }
   ],
   "source": [
    "phone_numbers"
   ]
  },
  {
   "cell_type": "code",
   "execution_count": null,
   "id": "a6c73dc9",
   "metadata": {},
   "outputs": [],
   "source": []
  },
  {
   "cell_type": "code",
   "execution_count": 66,
   "id": "cefd7f4a",
   "metadata": {},
   "outputs": [],
   "source": [
    "records=[('firstgroup',1,2,3),('secondgroup','a','b'),('firstgroup',1,9,3)]"
   ]
  },
  {
   "cell_type": "code",
   "execution_count": 82,
   "id": "35c8a025",
   "metadata": {},
   "outputs": [],
   "source": [
    "def sc(*s):\n",
    "    print(s[-1])"
   ]
  },
  {
   "cell_type": "code",
   "execution_count": 84,
   "id": "9ef922e7",
   "metadata": {},
   "outputs": [
    {
     "name": "stdout",
     "output_type": "stream",
     "text": [
      "6\n",
      "2\n",
      "13\n"
     ]
    }
   ],
   "source": [
    "for tag,*args in records:\n",
    "    if tag=='firstgroup':\n",
    "        print(sum(args))\n",
    "    else :\n",
    "        sc(args,1,2)"
   ]
  },
  {
   "cell_type": "code",
   "execution_count": null,
   "id": "2fb7119f",
   "metadata": {},
   "outputs": [],
   "source": []
  },
  {
   "cell_type": "code",
   "execution_count": null,
   "id": "74ab78c3",
   "metadata": {},
   "outputs": [],
   "source": []
  },
  {
   "cell_type": "code",
   "execution_count": 86,
   "id": "d0a1ace3",
   "metadata": {},
   "outputs": [],
   "source": [
    "'''\n",
    "# # 1.3 保存最后N个元素------------------------------------------------------------------------\n",
    "from collections import deque 保存有限的历史\n",
    "##---------------\n",
    "'''\n"
   ]
  },
  {
   "cell_type": "code",
   "execution_count": 89,
   "id": "8c84ab91",
   "metadata": {},
   "outputs": [
    {
     "data": {
      "text/plain": [
       "deque([2, 3, 4])"
      ]
     },
     "execution_count": 89,
     "metadata": {},
     "output_type": "execute_result"
    }
   ],
   "source": [
    "from collections import deque\n",
    "q=deque(maxlen=3)\n",
    "q.append(1)\n",
    "q.append(2)\n",
    "q.append(3)\n",
    "q.append(4)\n",
    "q"
   ]
  },
  {
   "cell_type": "code",
   "execution_count": 90,
   "id": "f6727874",
   "metadata": {},
   "outputs": [],
   "source": [
    "q.append(['asd','fgh','jkl'])"
   ]
  },
  {
   "cell_type": "code",
   "execution_count": 98,
   "id": "0cf3ea3c",
   "metadata": {},
   "outputs": [
    {
     "data": {
      "text/plain": [
       "deque([3, 4, ['asd', 'fgh', 'jkl']])"
      ]
     },
     "execution_count": 98,
     "metadata": {},
     "output_type": "execute_result"
    }
   ],
   "source": [
    "q"
   ]
  },
  {
   "cell_type": "code",
   "execution_count": 99,
   "id": "b7b784f4",
   "metadata": {},
   "outputs": [],
   "source": [
    "#deque (from collection "
   ]
  },
  {
   "cell_type": "code",
   "execution_count": 101,
   "id": "a3f07133",
   "metadata": {},
   "outputs": [],
   "source": [
    "q=deque()"
   ]
  },
  {
   "cell_type": "code",
   "execution_count": 102,
   "id": "91b409d9",
   "metadata": {},
   "outputs": [],
   "source": [
    "q.append(10)"
   ]
  },
  {
   "cell_type": "code",
   "execution_count": 104,
   "id": "2f159d61",
   "metadata": {},
   "outputs": [],
   "source": [
    "q.append(12)"
   ]
  },
  {
   "cell_type": "code",
   "execution_count": 105,
   "id": "c58027b0",
   "metadata": {},
   "outputs": [
    {
     "data": {
      "text/plain": [
       "deque([10, 12, 12])"
      ]
     },
     "execution_count": 105,
     "metadata": {},
     "output_type": "execute_result"
    }
   ],
   "source": [
    "q"
   ]
  },
  {
   "cell_type": "code",
   "execution_count": 107,
   "id": "40be2d48",
   "metadata": {},
   "outputs": [
    {
     "data": {
      "text/plain": [
       "10"
      ]
     },
     "execution_count": 107,
     "metadata": {},
     "output_type": "execute_result"
    }
   ],
   "source": [
    "q.popleft()"
   ]
  },
  {
   "cell_type": "code",
   "execution_count": 108,
   "id": "f0538323",
   "metadata": {},
   "outputs": [
    {
     "data": {
      "text/plain": [
       "12"
      ]
     },
     "execution_count": 108,
     "metadata": {},
     "output_type": "execute_result"
    }
   ],
   "source": [
    "q.pop()"
   ]
  },
  {
   "cell_type": "code",
   "execution_count": 109,
   "id": "1ee1b39a",
   "metadata": {},
   "outputs": [
    {
     "data": {
      "text/plain": [
       "deque([12])"
      ]
     },
     "execution_count": 109,
     "metadata": {},
     "output_type": "execute_result"
    }
   ],
   "source": [
    "q"
   ]
  },
  {
   "cell_type": "code",
   "execution_count": 110,
   "id": "2feabe16",
   "metadata": {},
   "outputs": [],
   "source": [
    "a=[]"
   ]
  },
  {
   "cell_type": "code",
   "execution_count": 111,
   "id": "a5997dc4",
   "metadata": {},
   "outputs": [],
   "source": [
    "a=q"
   ]
  },
  {
   "cell_type": "code",
   "execution_count": 112,
   "id": "e32dd220",
   "metadata": {},
   "outputs": [
    {
     "data": {
      "text/plain": [
       "deque([12])"
      ]
     },
     "execution_count": 112,
     "metadata": {},
     "output_type": "execute_result"
    }
   ],
   "source": [
    "a"
   ]
  },
  {
   "cell_type": "code",
   "execution_count": null,
   "id": "3267d566",
   "metadata": {},
   "outputs": [],
   "source": []
  },
  {
   "cell_type": "code",
   "execution_count": null,
   "id": "59ed97cd",
   "metadata": {},
   "outputs": [],
   "source": []
  },
  {
   "cell_type": "code",
   "execution_count": null,
   "id": "d7acea50",
   "metadata": {},
   "outputs": [],
   "source": []
  },
  {
   "cell_type": "code",
   "execution_count": 92,
   "id": "57ad7a38",
   "metadata": {},
   "outputs": [],
   "source": [
    "## 1.4 找到最大或最小的 n个元素 ： heapq模块 nlargest(), nsmallest()----------------------------------------"
   ]
  },
  {
   "cell_type": "code",
   "execution_count": 93,
   "id": "13cb1517",
   "metadata": {},
   "outputs": [],
   "source": [
    "import heapq"
   ]
  },
  {
   "cell_type": "code",
   "execution_count": 95,
   "id": "06b9b897",
   "metadata": {},
   "outputs": [],
   "source": [
    "nums=[12,21,34,54,12,56,34,2,5,2,657,12,11,100,203]"
   ]
  },
  {
   "cell_type": "code",
   "execution_count": 96,
   "id": "dc0b13cb",
   "metadata": {},
   "outputs": [
    {
     "name": "stdout",
     "output_type": "stream",
     "text": [
      "[657, 203, 100]\n"
     ]
    }
   ],
   "source": [
    "print(heapq.nlargest(3,nums))"
   ]
  },
  {
   "cell_type": "code",
   "execution_count": 115,
   "id": "63d34505",
   "metadata": {},
   "outputs": [
    {
     "name": "stdout",
     "output_type": "stream",
     "text": [
      "[2, 2, 5, 11]\n"
     ]
    }
   ],
   "source": [
    "print(heapq.nsmallest(4,nums))"
   ]
  },
  {
   "cell_type": "code",
   "execution_count": 119,
   "id": "bdffc259",
   "metadata": {},
   "outputs": [],
   "source": [
    "portfolio = [\n",
    "    {'name':'IBM','shares':100,'price':91.2},\n",
    "    {'name':'AAPL','shares':50,'price':91.2},\n",
    "    {'name':'FB','shares':200,'price':91.2},\n",
    "    {'name':'HPQ','shares':35,'price':91.2},\n",
    "    {'name':'YHOO','shares':45,'price':91.2},\n",
    "    {'name':'ACME','shares':75,'price':91.2},\n",
    "]"
   ]
  },
  {
   "cell_type": "code",
   "execution_count": 124,
   "id": "c08e8c5c",
   "metadata": {},
   "outputs": [],
   "source": [
    "cheap=heapq.nsmallest(3,portfolio,key=lambda s: s['price'])#传入s时，传回s['price'],按此排序"
   ]
  },
  {
   "cell_type": "code",
   "execution_count": 121,
   "id": "868dcef1",
   "metadata": {},
   "outputs": [
    {
     "data": {
      "text/plain": [
       "[{'name': 'IBM', 'shares': 100, 'price': 91.2},\n",
       " {'name': 'AAPL', 'shares': 50, 'price': 91.2},\n",
       " {'name': 'FB', 'shares': 200, 'price': 91.2}]"
      ]
     },
     "execution_count": 121,
     "metadata": {},
     "output_type": "execute_result"
    }
   ],
   "source": [
    "cheap"
   ]
  },
  {
   "cell_type": "code",
   "execution_count": 128,
   "id": "8566b6be",
   "metadata": {},
   "outputs": [
    {
     "data": {
      "text/plain": [
       "[0, -1, -2, 3, -4, 5, -6]"
      ]
     },
     "execution_count": 128,
     "metadata": {},
     "output_type": "execute_result"
    }
   ],
   "source": [
    "    list1 = [3,5,-4,-1,0,-2,-6]    #key是参数，一般是函数名 \n",
    "    def get_abs(x):\n",
    "        return abs(x)\n",
    "    sorted(list1,key=get_abs)"
   ]
  },
  {
   "cell_type": "code",
   "execution_count": 129,
   "id": "52d6aa04",
   "metadata": {},
   "outputs": [
    {
     "data": {
      "text/plain": [
       "[0, -1, -2, 3, -4, 5, -6]"
      ]
     },
     "execution_count": 129,
     "metadata": {},
     "output_type": "execute_result"
    }
   ],
   "source": [
    "list1 = [3,5,-4,-1,0,-2,-6] #key后接匿名函数\n",
    "sorted(list1, key=lambda x: abs(x))"
   ]
  },
  {
   "cell_type": "code",
   "execution_count": 130,
   "id": "b354ae32",
   "metadata": {},
   "outputs": [
    {
     "data": {
      "text/plain": [
       "[('dave', 'B', 10), ('jane', 'B', 12), ('john', 'A', 15)]"
      ]
     },
     "execution_count": 130,
     "metadata": {},
     "output_type": "execute_result"
    }
   ],
   "source": [
    " students = [('john', 'A', 15), ('jane', 'B', 12), ('dave', 'B', 10)]\n",
    "\n",
    " sorted(students, key=lambda s: s[2])    #按年龄排序 索引为2处"
   ]
  },
  {
   "cell_type": "code",
   "execution_count": 15,
   "id": "4a403d53",
   "metadata": {},
   "outputs": [],
   "source": [
    "######1.5 实现优先级队列 ###########################################------------------------------------"
   ]
  },
  {
   "cell_type": "code",
   "execution_count": 16,
   "id": "450796dd",
   "metadata": {},
   "outputs": [],
   "source": [
    "import heapq"
   ]
  },
  {
   "cell_type": "code",
   "execution_count": null,
   "id": "e0bddc95",
   "metadata": {},
   "outputs": [],
   "source": []
  },
  {
   "cell_type": "code",
   "execution_count": 17,
   "id": "67c8e9ae",
   "metadata": {},
   "outputs": [],
   "source": [
    "import heapq"
   ]
  },
  {
   "cell_type": "code",
   "execution_count": null,
   "id": "f571155b",
   "metadata": {},
   "outputs": [],
   "source": []
  },
  {
   "cell_type": "code",
   "execution_count": 50,
   "id": "8ab94997",
   "metadata": {},
   "outputs": [],
   "source": [
    "class PriorityQueue:\n",
    "    _queue=[]\n",
    "    _index=0\n",
    "    def _init_(self):\n",
    "        self._queue = []\n",
    "        self._index = 0\n",
    "    def push(self,item,priority):\n",
    "        heapq.heappush(self._queue,(-priority,self._index,item))\n",
    "        self._index += 1\n",
    "    def pop(self):\n",
    "        return heapq.heappop(self._queue)"
   ]
  },
  {
   "cell_type": "code",
   "execution_count": 34,
   "id": "2c3cb266",
   "metadata": {},
   "outputs": [],
   "source": [
    "class Item:\n",
    "    def __init__(self,name):\n",
    "        self.name = name\n",
    "    def __repr__(self):\n",
    "        return 'Item({!r})'.format(self.name)"
   ]
  },
  {
   "cell_type": "code",
   "execution_count": 47,
   "id": "11780e31",
   "metadata": {},
   "outputs": [],
   "source": [
    "q=PriorityQueue()"
   ]
  },
  {
   "cell_type": "code",
   "execution_count": 48,
   "id": "1ea2b643",
   "metadata": {},
   "outputs": [],
   "source": [
    "q.push(Item('foo'),1)"
   ]
  },
  {
   "cell_type": "code",
   "execution_count": 52,
   "id": "e7843b9d",
   "metadata": {},
   "outputs": [],
   "source": [
    "q.push(Item('bar'),5)"
   ]
  },
  {
   "cell_type": "code",
   "execution_count": 53,
   "id": "fa74bd6e",
   "metadata": {},
   "outputs": [],
   "source": [
    "q.push(Item('spam'),4)"
   ]
  },
  {
   "cell_type": "code",
   "execution_count": 55,
   "id": "2422e481",
   "metadata": {},
   "outputs": [],
   "source": [
    "q.push(Item('grok'),1)"
   ]
  },
  {
   "cell_type": "code",
   "execution_count": 56,
   "id": "2dce91eb",
   "metadata": {},
   "outputs": [
    {
     "data": {
      "text/plain": [
       "(-5, 1, Item('bar'))"
      ]
     },
     "execution_count": 56,
     "metadata": {},
     "output_type": "execute_result"
    }
   ],
   "source": [
    "q.pop()"
   ]
  },
  {
   "cell_type": "code",
   "execution_count": 60,
   "id": "1f876c07",
   "metadata": {},
   "outputs": [
    {
     "data": {
      "text/plain": [
       "Item('foo')"
      ]
     },
     "execution_count": 60,
     "metadata": {},
     "output_type": "execute_result"
    }
   ],
   "source": [
    "q.pop()[2]"
   ]
  },
  {
   "cell_type": "code",
   "execution_count": 58,
   "id": "51a89f8e",
   "metadata": {},
   "outputs": [
    {
     "data": {
      "text/plain": [
       "<__main__.PriorityQueue at 0x117b7b11760>"
      ]
     },
     "execution_count": 58,
     "metadata": {},
     "output_type": "execute_result"
    }
   ],
   "source": [
    "q"
   ]
  },
  {
   "cell_type": "code",
   "execution_count": 59,
   "id": "f9b1b23d",
   "metadata": {},
   "outputs": [
    {
     "data": {
      "text/plain": [
       "[(-1, 0, Item('foo')), (-1, 3, Item('grok')), (-1, 4, Item('grok'))]"
      ]
     },
     "execution_count": 59,
     "metadata": {},
     "output_type": "execute_result"
    }
   ],
   "source": [
    "q._queue"
   ]
  },
  {
   "cell_type": "code",
   "execution_count": null,
   "id": "89923ebb",
   "metadata": {},
   "outputs": [],
   "source": []
  },
  {
   "cell_type": "code",
   "execution_count": null,
   "id": "e6b7526c",
   "metadata": {},
   "outputs": [],
   "source": []
  },
  {
   "cell_type": "code",
   "execution_count": null,
   "id": "8a727f92",
   "metadata": {},
   "outputs": [],
   "source": []
  },
  {
   "cell_type": "code",
   "execution_count": null,
   "id": "eb992db4",
   "metadata": {},
   "outputs": [],
   "source": []
  },
  {
   "cell_type": "code",
   "execution_count": null,
   "id": "2fef9727",
   "metadata": {},
   "outputs": [],
   "source": [
    " "
   ]
  },
  {
   "cell_type": "code",
   "execution_count": null,
   "id": "b40943ed",
   "metadata": {},
   "outputs": [],
   "source": []
  },
  {
   "cell_type": "code",
   "execution_count": null,
   "id": "d3281f59",
   "metadata": {},
   "outputs": [],
   "source": []
  },
  {
   "cell_type": "code",
   "execution_count": null,
   "id": "1e66ab09",
   "metadata": {},
   "outputs": [],
   "source": []
  },
  {
   "cell_type": "code",
   "execution_count": null,
   "id": "abd524a8",
   "metadata": {},
   "outputs": [],
   "source": []
  },
  {
   "cell_type": "code",
   "execution_count": 131,
   "id": "3ddd05ec",
   "metadata": {},
   "outputs": [],
   "source": [
    "### 2.1 任意多的分隔符拆分字符串 ##############################----------------------------"
   ]
  },
  {
   "cell_type": "code",
   "execution_count": 6,
   "id": "7f5a3e1b",
   "metadata": {},
   "outputs": [
    {
     "data": {
      "text/plain": [
       "['asd', 'fghj', 'afed', 'fjek', 'asd', 'foo']"
      ]
     },
     "execution_count": 6,
     "metadata": {},
     "output_type": "execute_result"
    }
   ],
   "source": [
    "line='asd fghj;afed,fjek,asd     foo'\n",
    "import re\n",
    "re.split(r'[;,\\s]\\s*',line)"
   ]
  },
  {
   "cell_type": "code",
   "execution_count": null,
   "id": "bca3fbc4",
   "metadata": {},
   "outputs": [],
   "source": []
  },
  {
   "cell_type": "code",
   "execution_count": null,
   "id": "f8a147f7",
   "metadata": {},
   "outputs": [],
   "source": []
  },
  {
   "cell_type": "code",
   "execution_count": null,
   "id": "cd9ce799",
   "metadata": {},
   "outputs": [],
   "source": []
  },
  {
   "cell_type": "code",
   "execution_count": null,
   "id": "ea133b87",
   "metadata": {},
   "outputs": [],
   "source": []
  },
  {
   "cell_type": "code",
   "execution_count": null,
   "id": "74bb703d",
   "metadata": {},
   "outputs": [],
   "source": []
  },
  {
   "cell_type": "code",
   "execution_count": null,
   "id": "c095a659",
   "metadata": {},
   "outputs": [],
   "source": []
  },
  {
   "cell_type": "code",
   "execution_count": null,
   "id": "fa7e749f",
   "metadata": {},
   "outputs": [],
   "source": []
  }
 ],
 "metadata": {
  "celltoolbar": "原始单元格格式",
  "kernelspec": {
   "display_name": "Python 3 (ipykernel)",
   "language": "python",
   "name": "python3"
  },
  "language_info": {
   "codemirror_mode": {
    "name": "ipython",
    "version": 3
   },
   "file_extension": ".py",
   "mimetype": "text/x-python",
   "name": "python",
   "nbconvert_exporter": "python",
   "pygments_lexer": "ipython3",
   "version": "3.9.7"
  }
 },
 "nbformat": 4,
 "nbformat_minor": 5
}
