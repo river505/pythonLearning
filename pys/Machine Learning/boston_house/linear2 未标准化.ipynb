{
 "cells": [
  {
   "cell_type": "code",
   "execution_count": 7,
   "id": "960c3268",
   "metadata": {},
   "outputs": [],
   "source": [
    "from sklearn.datasets import load_boston"
   ]
  },
  {
   "cell_type": "code",
   "execution_count": 9,
   "id": "bc979120",
   "metadata": {},
   "outputs": [],
   "source": [
    "housing=load_boston()"
   ]
  },
  {
   "cell_type": "code",
   "execution_count": 10,
   "id": "a58e0875",
   "metadata": {},
   "outputs": [],
   "source": [
    "X=housing.data\n",
    "y=housing.target"
   ]
  },
  {
   "cell_type": "code",
   "execution_count": 11,
   "id": "b55c43d7",
   "metadata": {},
   "outputs": [],
   "source": [
    "from sklearn.model_selection import train_test_split"
   ]
  },
  {
   "cell_type": "code",
   "execution_count": 12,
   "id": "ddf17b4f",
   "metadata": {},
   "outputs": [],
   "source": [
    "X_train,X_test,y_train,y_test=train_test_split(X,y,test_size=0.25)"
   ]
  },
  {
   "cell_type": "code",
   "execution_count": 13,
   "id": "f1bad55f",
   "metadata": {},
   "outputs": [],
   "source": [
    "from sklearn.discriminant_analysis import LinearDiscriminantAnalysis as LDA #线性判别 不行"
   ]
  },
  {
   "cell_type": "markdown",
   "id": "5cc977f3",
   "metadata": {},
   "source": [
    "model_1"
   ]
  },
  {
   "cell_type": "code",
   "execution_count": 14,
   "id": "67c4e125",
   "metadata": {},
   "outputs": [],
   "source": [
    "model_1=LDA()"
   ]
  },
  {
   "cell_type": "code",
   "execution_count": 16,
   "id": "5795e4a2",
   "metadata": {},
   "outputs": [
    {
     "data": {
      "text/plain": [
       "LinearDiscriminantAnalysis()"
      ]
     },
     "execution_count": 16,
     "metadata": {},
     "output_type": "execute_result"
    }
   ],
   "source": [
    "model_1.fit(X_train,y_train.astype('int'))"
   ]
  },
  {
   "cell_type": "code",
   "execution_count": 18,
   "id": "5c3b9060",
   "metadata": {},
   "outputs": [
    {
     "data": {
      "text/plain": [
       "0.11811023622047244"
      ]
     },
     "execution_count": 18,
     "metadata": {},
     "output_type": "execute_result"
    }
   ],
   "source": [
    "model_1.score(X_test,y_test.astype('int'))"
   ]
  },
  {
   "cell_type": "code",
   "execution_count": null,
   "id": "e40d4e55",
   "metadata": {},
   "outputs": [],
   "source": []
  },
  {
   "cell_type": "code",
   "execution_count": null,
   "id": "58736ae1",
   "metadata": {},
   "outputs": [],
   "source": []
  },
  {
   "cell_type": "markdown",
   "id": "85bae73e",
   "metadata": {},
   "source": [
    "朴素贝叶斯 model——2"
   ]
  },
  {
   "cell_type": "code",
   "execution_count": 20,
   "id": "f80f8bed",
   "metadata": {},
   "outputs": [],
   "source": [
    "from sklearn.naive_bayes import GaussianNB as gnb"
   ]
  },
  {
   "cell_type": "code",
   "execution_count": 21,
   "id": "66a3478a",
   "metadata": {},
   "outputs": [],
   "source": [
    "model_2=gnb()"
   ]
  },
  {
   "cell_type": "code",
   "execution_count": 23,
   "id": "e8d59c2d",
   "metadata": {},
   "outputs": [
    {
     "data": {
      "text/plain": [
       "GaussianNB()"
      ]
     },
     "execution_count": 23,
     "metadata": {},
     "output_type": "execute_result"
    }
   ],
   "source": [
    "model_2.fit(X_train,y_train.astype('int'))"
   ]
  },
  {
   "cell_type": "code",
   "execution_count": 25,
   "id": "8dcd155e",
   "metadata": {},
   "outputs": [
    {
     "data": {
      "text/plain": [
       "0.11023622047244094"
      ]
     },
     "execution_count": 25,
     "metadata": {},
     "output_type": "execute_result"
    }
   ],
   "source": [
    "model_2.score(X_test,y_test.astype('int'))"
   ]
  },
  {
   "cell_type": "code",
   "execution_count": null,
   "id": "730a350f",
   "metadata": {},
   "outputs": [],
   "source": []
  },
  {
   "cell_type": "markdown",
   "id": "633345a1",
   "metadata": {},
   "source": [
    "#model_3 Ada提升"
   ]
  },
  {
   "cell_type": "code",
   "execution_count": 26,
   "id": "4fe38fd2",
   "metadata": {},
   "outputs": [],
   "source": [
    "from sklearn.ensemble import AdaBoostRegressor"
   ]
  },
  {
   "cell_type": "code",
   "execution_count": 27,
   "id": "a104a050",
   "metadata": {},
   "outputs": [],
   "source": [
    "model_3=AdaBoostRegressor()"
   ]
  },
  {
   "cell_type": "code",
   "execution_count": 28,
   "id": "9cebf3b0",
   "metadata": {},
   "outputs": [
    {
     "data": {
      "text/plain": [
       "AdaBoostRegressor()"
      ]
     },
     "execution_count": 28,
     "metadata": {},
     "output_type": "execute_result"
    }
   ],
   "source": [
    "model_3.fit(X_train,y_train)"
   ]
  },
  {
   "cell_type": "code",
   "execution_count": 29,
   "id": "5727cb57",
   "metadata": {},
   "outputs": [
    {
     "data": {
      "text/plain": [
       "0.7396757205015948"
      ]
     },
     "execution_count": 29,
     "metadata": {},
     "output_type": "execute_result"
    }
   ],
   "source": [
    "model_3.score(X_test,y_test)"
   ]
  },
  {
   "cell_type": "code",
   "execution_count": null,
   "id": "81191f9c",
   "metadata": {},
   "outputs": [],
   "source": []
  },
  {
   "cell_type": "markdown",
   "id": "0c8fbaee",
   "metadata": {},
   "source": [
    "#最近邻 modeL_4"
   ]
  },
  {
   "cell_type": "code",
   "execution_count": 30,
   "id": "faf3ba8d",
   "metadata": {},
   "outputs": [],
   "source": [
    "from sklearn.neighbors import KNeighborsRegressor"
   ]
  },
  {
   "cell_type": "code",
   "execution_count": 76,
   "id": "80e32876",
   "metadata": {},
   "outputs": [],
   "source": [
    "model_4=KNeighborsRegressor(n_neighbors=9)"
   ]
  },
  {
   "cell_type": "code",
   "execution_count": 77,
   "id": "71e4bd48",
   "metadata": {},
   "outputs": [
    {
     "data": {
      "text/plain": [
       "KNeighborsRegressor(n_neighbors=9)"
      ]
     },
     "execution_count": 77,
     "metadata": {},
     "output_type": "execute_result"
    }
   ],
   "source": [
    "model_4.fit(X_train,y_train)"
   ]
  },
  {
   "cell_type": "code",
   "execution_count": 78,
   "id": "1432da10",
   "metadata": {},
   "outputs": [
    {
     "data": {
      "text/plain": [
       "0.5164128080923205"
      ]
     },
     "execution_count": 78,
     "metadata": {},
     "output_type": "execute_result"
    }
   ],
   "source": [
    "model_4.score(X_test,y_test)"
   ]
  },
  {
   "cell_type": "code",
   "execution_count": null,
   "id": "e40c7c3b",
   "metadata": {},
   "outputs": [],
   "source": []
  },
  {
   "cell_type": "code",
   "execution_count": null,
   "id": "ec096403",
   "metadata": {},
   "outputs": [],
   "source": []
  },
  {
   "cell_type": "markdown",
   "id": "7e6a62d1",
   "metadata": {},
   "source": [
    "随机森林 model_5"
   ]
  },
  {
   "cell_type": "code",
   "execution_count": 79,
   "id": "46876a47",
   "metadata": {},
   "outputs": [],
   "source": [
    " from sklearn.ensemble import RandomForestRegressor"
   ]
  },
  {
   "cell_type": "code",
   "execution_count": 102,
   "id": "b14f55ab",
   "metadata": {},
   "outputs": [],
   "source": [
    "model_5=RandomForestRegressor(max_depth=5)"
   ]
  },
  {
   "cell_type": "code",
   "execution_count": 103,
   "id": "341ef672",
   "metadata": {},
   "outputs": [
    {
     "data": {
      "text/plain": [
       "RandomForestRegressor(max_depth=5)"
      ]
     },
     "execution_count": 103,
     "metadata": {},
     "output_type": "execute_result"
    }
   ],
   "source": [
    "model_5.fit(X_train,y_train)"
   ]
  },
  {
   "cell_type": "code",
   "execution_count": 104,
   "id": "3a4817ab",
   "metadata": {},
   "outputs": [
    {
     "data": {
      "text/plain": [
       "0.7571118209315767"
      ]
     },
     "execution_count": 104,
     "metadata": {},
     "output_type": "execute_result"
    }
   ],
   "source": [
    "model_5.score(X_test,y_test)"
   ]
  },
  {
   "cell_type": "code",
   "execution_count": null,
   "id": "ff1d810a",
   "metadata": {},
   "outputs": [],
   "source": []
  },
  {
   "cell_type": "code",
   "execution_count": 106,
   "id": "8829a65e",
   "metadata": {},
   "outputs": [],
   "source": [
    "from sklearn.ensemble import ExtraTreesRegressor"
   ]
  },
  {
   "cell_type": "code",
   "execution_count": 107,
   "id": "7be97960",
   "metadata": {},
   "outputs": [],
   "source": [
    "model_6=ExtraTreesRegressor()"
   ]
  },
  {
   "cell_type": "code",
   "execution_count": 108,
   "id": "22d8e52b",
   "metadata": {},
   "outputs": [
    {
     "data": {
      "text/plain": [
       "ExtraTreesRegressor()"
      ]
     },
     "execution_count": 108,
     "metadata": {},
     "output_type": "execute_result"
    }
   ],
   "source": [
    "model_6.fit(X_train,y_train)"
   ]
  },
  {
   "cell_type": "code",
   "execution_count": 109,
   "id": "ca6a6857",
   "metadata": {},
   "outputs": [
    {
     "data": {
      "text/plain": [
       "0.8035897008146584"
      ]
     },
     "execution_count": 109,
     "metadata": {},
     "output_type": "execute_result"
    }
   ],
   "source": [
    "model_6.score(X_test,y_test)"
   ]
  },
  {
   "cell_type": "code",
   "execution_count": null,
   "id": "3d40808a",
   "metadata": {},
   "outputs": [],
   "source": []
  },
  {
   "cell_type": "code",
   "execution_count": null,
   "id": "69cf9d0d",
   "metadata": {},
   "outputs": [],
   "source": []
  },
  {
   "cell_type": "code",
   "execution_count": 112,
   "id": "27e64622",
   "metadata": {},
   "outputs": [],
   "source": [
    "from sklearn.ensemble import GradientBoostingRegressor"
   ]
  },
  {
   "cell_type": "code",
   "execution_count": 113,
   "id": "1c239515",
   "metadata": {},
   "outputs": [],
   "source": [
    "model_7=GradientBoostingRegressor()"
   ]
  },
  {
   "cell_type": "code",
   "execution_count": 114,
   "id": "93e91ead",
   "metadata": {},
   "outputs": [
    {
     "data": {
      "text/plain": [
       "GradientBoostingRegressor()"
      ]
     },
     "execution_count": 114,
     "metadata": {},
     "output_type": "execute_result"
    }
   ],
   "source": [
    "model_7.fit(X_train,y_train)"
   ]
  },
  {
   "cell_type": "code",
   "execution_count": 116,
   "id": "2ac6c4b1",
   "metadata": {},
   "outputs": [
    {
     "data": {
      "text/plain": [
       "0.9810056093632812"
      ]
     },
     "execution_count": 116,
     "metadata": {},
     "output_type": "execute_result"
    }
   ],
   "source": [
    "model_7.score(X_train,y_train)"
   ]
  },
  {
   "cell_type": "code",
   "execution_count": 118,
   "id": "cbd0929e",
   "metadata": {},
   "outputs": [
    {
     "name": "stdout",
     "output_type": "stream",
     "text": [
      "GradientBoostingRegressor()\n"
     ]
    }
   ],
   "source": [
    "print(model_7)"
   ]
  },
  {
   "cell_type": "code",
   "execution_count": null,
   "id": "545b98e8",
   "metadata": {},
   "outputs": [],
   "source": []
  }
 ],
 "metadata": {
  "kernelspec": {
   "display_name": "Python 3 (ipykernel)",
   "language": "python",
   "name": "python3"
  },
  "language_info": {
   "codemirror_mode": {
    "name": "ipython",
    "version": 3
   },
   "file_extension": ".py",
   "mimetype": "text/x-python",
   "name": "python",
   "nbconvert_exporter": "python",
   "pygments_lexer": "ipython3",
   "version": "3.9.7"
  }
 },
 "nbformat": 4,
 "nbformat_minor": 5
}
