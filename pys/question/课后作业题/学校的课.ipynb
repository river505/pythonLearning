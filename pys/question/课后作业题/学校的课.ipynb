{
 "cells": [
  {
   "cell_type": "code",
   "execution_count": 29,
   "id": "ccfedcaf",
   "metadata": {},
   "outputs": [],
   "source": [
    "a=[1,2,3,4,5,12,34,21,32,76,45,76,97,34,11,22,33,44,221,345,765,234]"
   ]
  },
  {
   "cell_type": "code",
   "execution_count": 2,
   "id": "33fbf30c",
   "metadata": {},
   "outputs": [],
   "source": [
    "import numpy as np"
   ]
  },
  {
   "cell_type": "code",
   "execution_count": 30,
   "id": "95346c87",
   "metadata": {},
   "outputs": [
    {
     "data": {
      "text/plain": [
       "22"
      ]
     },
     "execution_count": 30,
     "metadata": {},
     "output_type": "execute_result"
    }
   ],
   "source": [
    "len(a)"
   ]
  },
  {
   "cell_type": "code",
   "execution_count": 12,
   "id": "671c5910",
   "metadata": {},
   "outputs": [],
   "source": [
    "a=np.array(a)"
   ]
  },
  {
   "cell_type": "code",
   "execution_count": 35,
   "id": "23c7b1fb",
   "metadata": {},
   "outputs": [
    {
     "ename": "ValueError",
     "evalue": "'a' and 'p' must have same size",
     "output_type": "error",
     "traceback": [
      "\u001b[1;31m---------------------------------------------------------------------------\u001b[0m",
      "\u001b[1;31mValueError\u001b[0m                                Traceback (most recent call last)",
      "\u001b[1;32m~\\AppData\\Local\\Temp/ipykernel_18436/2358400941.py\u001b[0m in \u001b[0;36m<module>\u001b[1;34m\u001b[0m\n\u001b[1;32m----> 1\u001b[1;33m \u001b[0mc\u001b[0m\u001b[1;33m=\u001b[0m\u001b[0mnp\u001b[0m\u001b[1;33m.\u001b[0m\u001b[0mrandom\u001b[0m\u001b[1;33m.\u001b[0m\u001b[0mchoice\u001b[0m\u001b[1;33m(\u001b[0m\u001b[0ma\u001b[0m\u001b[1;33m,\u001b[0m\u001b[1;33m[\u001b[0m\u001b[1;36m2\u001b[0m\u001b[1;33m,\u001b[0m\u001b[1;36m5\u001b[0m\u001b[1;33m]\u001b[0m\u001b[1;33m,\u001b[0m\u001b[0mp\u001b[0m\u001b[1;33m=\u001b[0m\u001b[1;33m[\u001b[0m\u001b[1;36m0.9\u001b[0m\u001b[1;33m,\u001b[0m\u001b[1;36m0.05\u001b[0m\u001b[1;33m,\u001b[0m\u001b[1;36m0.05\u001b[0m\u001b[1;33m,\u001b[0m\u001b[1;36m0\u001b[0m\u001b[1;33m,\u001b[0m\u001b[1;36m0\u001b[0m\u001b[1;33m,\u001b[0m\u001b[1;36m0\u001b[0m\u001b[1;33m,\u001b[0m\u001b[1;36m0\u001b[0m\u001b[1;33m,\u001b[0m\u001b[1;36m0\u001b[0m\u001b[1;33m,\u001b[0m\u001b[1;36m0\u001b[0m\u001b[1;33m,\u001b[0m\u001b[1;36m0\u001b[0m\u001b[1;33m,\u001b[0m\u001b[1;36m0\u001b[0m\u001b[1;33m,\u001b[0m\u001b[1;36m0\u001b[0m\u001b[1;33m,\u001b[0m\u001b[1;36m0\u001b[0m\u001b[1;33m,\u001b[0m\u001b[1;36m0\u001b[0m\u001b[1;33m,\u001b[0m\u001b[1;36m0\u001b[0m\u001b[1;33m,\u001b[0m\u001b[1;36m0\u001b[0m\u001b[1;33m,\u001b[0m\u001b[1;36m0\u001b[0m\u001b[1;33m,\u001b[0m\u001b[1;36m0\u001b[0m\u001b[1;33m,\u001b[0m\u001b[1;36m0\u001b[0m\u001b[1;33m]\u001b[0m\u001b[1;33m)\u001b[0m\u001b[1;33m\u001b[0m\u001b[1;33m\u001b[0m\u001b[0m\n\u001b[0m",
      "\u001b[1;32mmtrand.pyx\u001b[0m in \u001b[0;36mnumpy.random.mtrand.RandomState.choice\u001b[1;34m()\u001b[0m\n",
      "\u001b[1;31mValueError\u001b[0m: 'a' and 'p' must have same size"
     ]
    }
   ],
   "source": [
    "c=np.random.choice(a,[2,5],p=[0.9,0.05,0.05,0,0,0,0,0,0,0,0,0,0,0,0,0,0,0,0])"
   ]
  },
  {
   "cell_type": "code",
   "execution_count": 38,
   "id": "8c9e94a2",
   "metadata": {},
   "outputs": [
    {
     "data": {
      "text/plain": [
       "array([[1, 1, 3, 1, 1],\n",
       "       [1, 1, 1, 1, 1]])"
      ]
     },
     "execution_count": 38,
     "metadata": {},
     "output_type": "execute_result"
    }
   ],
   "source": [
    "c"
   ]
  },
  {
   "cell_type": "code",
   "execution_count": null,
   "id": "f7b9de35",
   "metadata": {},
   "outputs": [],
   "source": []
  },
  {
   "cell_type": "code",
   "execution_count": 39,
   "id": "ff51a88b",
   "metadata": {},
   "outputs": [],
   "source": [
    "a=np.random.rand(10,5)"
   ]
  },
  {
   "cell_type": "code",
   "execution_count": 41,
   "id": "5840b62d",
   "metadata": {},
   "outputs": [
    {
     "data": {
      "text/plain": [
       "array([[0.52317228, 0.72400183, 0.01907692, 0.62931414, 0.6656919 ],\n",
       "       [0.16317517, 0.92842379, 0.96675778, 0.36161992, 0.02081595],\n",
       "       [0.33246488, 0.53032567, 0.64119094, 0.24484992, 0.28345661],\n",
       "       [0.96099904, 0.49590168, 0.36974968, 0.64543794, 0.09848384],\n",
       "       [0.31522795, 0.39568945, 0.93025887, 0.63868263, 0.5250326 ],\n",
       "       [0.87921923, 0.67930385, 0.47969983, 0.32551738, 0.76236534],\n",
       "       [0.43659228, 0.1785268 , 0.05340793, 0.45666579, 0.81441029],\n",
       "       [0.651728  , 0.13699594, 0.70028636, 0.46328132, 0.387214  ],\n",
       "       [0.46380804, 0.43448714, 0.13097228, 0.24921364, 0.06118587],\n",
       "       [0.29042994, 0.02958538, 0.3715984 , 0.96972786, 0.95428299]])"
      ]
     },
     "execution_count": 41,
     "metadata": {},
     "output_type": "execute_result"
    }
   ],
   "source": [
    "a"
   ]
  },
  {
   "cell_type": "code",
   "execution_count": 45,
   "id": "b621b219",
   "metadata": {},
   "outputs": [],
   "source": [
    "a=np.random.normal(10,5,[10,5])"
   ]
  },
  {
   "cell_type": "code",
   "execution_count": 46,
   "id": "a852d82b",
   "metadata": {},
   "outputs": [
    {
     "data": {
      "text/plain": [
       "array([[11.17448224,  8.33710534, 14.15433043, 19.08562042, 10.88366251],\n",
       "       [18.73222822, 14.52798744, 10.63799376,  6.42123802, 17.04206329],\n",
       "       [16.25766593, 15.35072159,  9.15549793, 11.06110743, 12.13875004],\n",
       "       [10.49049025, 11.0514929 , 13.80084267,  8.17691331, 20.490963  ],\n",
       "       [11.91102999,  4.9542661 ,  6.26835545, 11.38468171, -1.497081  ],\n",
       "       [ 5.19907969, 13.93127328, 12.34172561,  9.13019796, 13.73508429],\n",
       "       [12.18062371,  2.90573475,  8.25086697, 14.20668314, -1.11118895],\n",
       "       [ 2.73430281, 10.44955503,  6.49155252,  7.96139228,  9.77168781],\n",
       "       [16.06385554,  4.81873415, 16.07323353,  8.29028129, 12.54663726],\n",
       "       [-0.4237249 ,  8.85065859, 17.50580912, 12.01356615,  1.70332448]])"
      ]
     },
     "execution_count": 46,
     "metadata": {},
     "output_type": "execute_result"
    }
   ],
   "source": [
    "a"
   ]
  },
  {
   "cell_type": "code",
   "execution_count": null,
   "id": "be86309f",
   "metadata": {},
   "outputs": [],
   "source": []
  },
  {
   "cell_type": "code",
   "execution_count": 3,
   "id": "1bc95b6a",
   "metadata": {},
   "outputs": [
    {
     "name": "stderr",
     "output_type": "stream",
     "text": [
      "C:\\Users\\HP\\AppData\\Local\\Temp/ipykernel_4756/4002684417.py:1: DeprecationWarning: `np.float` is a deprecated alias for the builtin `float`. To silence this warning, use `float` by itself. Doing this will not modify any behavior and is safe. If you specifically wanted the numpy scalar type, use `np.float64` here.\n",
      "Deprecated in NumPy 1.20; for more details and guidance: https://numpy.org/devdocs/release/1.20.0-notes.html#deprecations\n",
      "  np.float(True)\n"
     ]
    },
    {
     "data": {
      "text/plain": [
       "1.0"
      ]
     },
     "execution_count": 3,
     "metadata": {},
     "output_type": "execute_result"
    }
   ],
   "source": [
    "np.float(True)"
   ]
  },
  {
   "cell_type": "code",
   "execution_count": 51,
   "id": "23608a1c",
   "metadata": {},
   "outputs": [],
   "source": [
    "asd=[1,4,56,7]"
   ]
  },
  {
   "cell_type": "code",
   "execution_count": 52,
   "id": "577631f7",
   "metadata": {},
   "outputs": [
    {
     "ename": "TypeError",
     "evalue": "list indices must be integers or slices, not tuple",
     "output_type": "error",
     "traceback": [
      "\u001b[1;31m---------------------------------------------------------------------------\u001b[0m",
      "\u001b[1;31mTypeError\u001b[0m                                 Traceback (most recent call last)",
      "\u001b[1;32m~\\AppData\\Local\\Temp/ipykernel_18436/1341494820.py\u001b[0m in \u001b[0;36m<module>\u001b[1;34m\u001b[0m\n\u001b[1;32m----> 1\u001b[1;33m \u001b[0masd\u001b[0m\u001b[1;33m[\u001b[0m\u001b[1;36m0\u001b[0m\u001b[1;33m,\u001b[0m\u001b[1;36m2\u001b[0m\u001b[1;33m]\u001b[0m\u001b[1;33m\u001b[0m\u001b[1;33m\u001b[0m\u001b[0m\n\u001b[0m",
      "\u001b[1;31mTypeError\u001b[0m: list indices must be integers or slices, not tuple"
     ]
    }
   ],
   "source": [
    "asd[0,2]"
   ]
  },
  {
   "cell_type": "code",
   "execution_count": 58,
   "id": "ef34aad6",
   "metadata": {},
   "outputs": [],
   "source": [
    "asd=np.random.normal(0,3,[4,32]).reshape(16,8)"
   ]
  },
  {
   "cell_type": "code",
   "execution_count": 60,
   "id": "ea8e2ab4",
   "metadata": {},
   "outputs": [
    {
     "data": {
      "text/plain": [
       "array([[ 0.78780235, -2.15873349,  1.91856512, -2.70121755,  1.6718145 ,\n",
       "         2.77164486,  3.47682978, -3.37068033],\n",
       "       [-2.24903825, -0.16717714, -0.75416367,  3.02271737, -1.18153334,\n",
       "        -1.92514302, -0.04603449,  1.61459639],\n",
       "       [ 3.26332959, -3.19651996,  2.93941141, -0.52724178,  1.18841308,\n",
       "         3.85596008,  3.90096935,  1.41646108],\n",
       "       [ 1.66485022, -3.61121434, -2.37249562, -1.09785069, -3.15361157,\n",
       "        -4.1739732 ,  3.51441792,  0.1895741 ],\n",
       "       [-0.20906572,  5.1479738 , -1.36441041, -1.79536096, -1.20837438,\n",
       "        -2.41548721, -2.07205421, -1.81650115],\n",
       "       [-2.94399695,  3.50587011, -2.19363619, -8.96101415, -0.11835854,\n",
       "        -0.33959846, -0.47375369,  2.04471275],\n",
       "       [-1.46004811,  4.38515335,  3.37147907,  1.73232287, -5.19518734,\n",
       "         3.31364389,  2.54803609,  1.39694061],\n",
       "       [-1.48027825,  4.46412378, -1.60749293, -5.0545129 ,  2.84392143,\n",
       "        -0.44592995, -3.36863276,  2.80559203],\n",
       "       [ 0.46212553, -0.48743232,  2.09965942,  3.55802056,  1.13899808,\n",
       "         1.36990428,  1.27947975, -1.51181152],\n",
       "       [-0.44985331, -0.20826519, -3.40559346,  2.39592536, -5.66919352,\n",
       "         1.25939208,  3.17392544,  2.13269992],\n",
       "       [-0.56229171,  1.94798574, -0.59631434, -0.58427041, -2.13500524,\n",
       "        -2.31041577,  0.82142907, -1.48094776],\n",
       "       [ 2.97058309,  3.54279671, -0.47645059,  0.10050011,  0.58625865,\n",
       "        -0.06116037,  2.71502197,  1.0213825 ],\n",
       "       [-3.10407624, -1.41617112,  4.51449726,  2.8522673 , -2.14185826,\n",
       "        -2.14881279, -0.51917733,  3.7795489 ],\n",
       "       [-1.94254799,  2.37025935,  2.31327925,  1.10450762,  4.33458001,\n",
       "         2.37004731,  3.39210348, -1.73638268],\n",
       "       [-1.49369716,  1.24624134,  0.18902483, -5.54719373, -4.91108613,\n",
       "         1.66475744,  1.51264046, -0.61193714],\n",
       "       [-6.61130758,  2.51968306, -2.20652338,  2.17228348, -1.83610747,\n",
       "        -2.54245163, -0.36478972,  2.86424649]])"
      ]
     },
     "execution_count": 60,
     "metadata": {},
     "output_type": "execute_result"
    }
   ],
   "source": [
    "asd"
   ]
  },
  {
   "cell_type": "code",
   "execution_count": 61,
   "id": "f6830994",
   "metadata": {},
   "outputs": [],
   "source": [
    "a,b=np.modf(asd)"
   ]
  },
  {
   "cell_type": "code",
   "execution_count": 62,
   "id": "47aec92d",
   "metadata": {},
   "outputs": [
    {
     "data": {
      "text/plain": [
       "array([[ 0.78780235, -0.15873349,  0.91856512, -0.70121755,  0.6718145 ,\n",
       "         0.77164486,  0.47682978, -0.37068033],\n",
       "       [-0.24903825, -0.16717714, -0.75416367,  0.02271737, -0.18153334,\n",
       "        -0.92514302, -0.04603449,  0.61459639],\n",
       "       [ 0.26332959, -0.19651996,  0.93941141, -0.52724178,  0.18841308,\n",
       "         0.85596008,  0.90096935,  0.41646108],\n",
       "       [ 0.66485022, -0.61121434, -0.37249562, -0.09785069, -0.15361157,\n",
       "        -0.1739732 ,  0.51441792,  0.1895741 ],\n",
       "       [-0.20906572,  0.1479738 , -0.36441041, -0.79536096, -0.20837438,\n",
       "        -0.41548721, -0.07205421, -0.81650115],\n",
       "       [-0.94399695,  0.50587011, -0.19363619, -0.96101415, -0.11835854,\n",
       "        -0.33959846, -0.47375369,  0.04471275],\n",
       "       [-0.46004811,  0.38515335,  0.37147907,  0.73232287, -0.19518734,\n",
       "         0.31364389,  0.54803609,  0.39694061],\n",
       "       [-0.48027825,  0.46412378, -0.60749293, -0.0545129 ,  0.84392143,\n",
       "        -0.44592995, -0.36863276,  0.80559203],\n",
       "       [ 0.46212553, -0.48743232,  0.09965942,  0.55802056,  0.13899808,\n",
       "         0.36990428,  0.27947975, -0.51181152],\n",
       "       [-0.44985331, -0.20826519, -0.40559346,  0.39592536, -0.66919352,\n",
       "         0.25939208,  0.17392544,  0.13269992],\n",
       "       [-0.56229171,  0.94798574, -0.59631434, -0.58427041, -0.13500524,\n",
       "        -0.31041577,  0.82142907, -0.48094776],\n",
       "       [ 0.97058309,  0.54279671, -0.47645059,  0.10050011,  0.58625865,\n",
       "        -0.06116037,  0.71502197,  0.0213825 ],\n",
       "       [-0.10407624, -0.41617112,  0.51449726,  0.8522673 , -0.14185826,\n",
       "        -0.14881279, -0.51917733,  0.7795489 ],\n",
       "       [-0.94254799,  0.37025935,  0.31327925,  0.10450762,  0.33458001,\n",
       "         0.37004731,  0.39210348, -0.73638268],\n",
       "       [-0.49369716,  0.24624134,  0.18902483, -0.54719373, -0.91108613,\n",
       "         0.66475744,  0.51264046, -0.61193714],\n",
       "       [-0.61130758,  0.51968306, -0.20652338,  0.17228348, -0.83610747,\n",
       "        -0.54245163, -0.36478972,  0.86424649]])"
      ]
     },
     "execution_count": 62,
     "metadata": {},
     "output_type": "execute_result"
    }
   ],
   "source": [
    "a"
   ]
  },
  {
   "cell_type": "code",
   "execution_count": 63,
   "id": "e85a5fad",
   "metadata": {},
   "outputs": [],
   "source": [
    "asdf=np.ones((3,4))"
   ]
  },
  {
   "cell_type": "code",
   "execution_count": 64,
   "id": "f9133882",
   "metadata": {},
   "outputs": [],
   "source": [
    "asdf=np.array([1,4,3,4,3,4])"
   ]
  },
  {
   "cell_type": "code",
   "execution_count": 65,
   "id": "ddbc2083",
   "metadata": {},
   "outputs": [],
   "source": [
    "asdf=np.exp(asdf)"
   ]
  },
  {
   "cell_type": "code",
   "execution_count": 66,
   "id": "a4d7234f",
   "metadata": {},
   "outputs": [
    {
     "data": {
      "text/plain": [
       "array([ 2.71828183, 54.59815003, 20.08553692, 54.59815003, 20.08553692,\n",
       "       54.59815003])"
      ]
     },
     "execution_count": 66,
     "metadata": {},
     "output_type": "execute_result"
    }
   ],
   "source": [
    "asdf"
   ]
  },
  {
   "cell_type": "code",
   "execution_count": 67,
   "id": "d6789793",
   "metadata": {},
   "outputs": [
    {
     "data": {
      "text/plain": [
       "2.718281828459045"
      ]
     },
     "execution_count": 67,
     "metadata": {},
     "output_type": "execute_result"
    }
   ],
   "source": [
    "np.e"
   ]
  },
  {
   "cell_type": "code",
   "execution_count": 68,
   "id": "541ef182",
   "metadata": {},
   "outputs": [
    {
     "data": {
      "text/plain": [
       "54.59815003314423"
      ]
     },
     "execution_count": 68,
     "metadata": {},
     "output_type": "execute_result"
    }
   ],
   "source": [
    "np.e**4"
   ]
  },
  {
   "cell_type": "code",
   "execution_count": 70,
   "id": "c841d215",
   "metadata": {},
   "outputs": [
    {
     "ename": "ValueError",
     "evalue": "operands could not be broadcast together with shapes (6,) (16,8) ",
     "output_type": "error",
     "traceback": [
      "\u001b[1;31m---------------------------------------------------------------------------\u001b[0m",
      "\u001b[1;31mValueError\u001b[0m                                Traceback (most recent call last)",
      "\u001b[1;32m~\\AppData\\Local\\Temp/ipykernel_18436/692034571.py\u001b[0m in \u001b[0;36m<module>\u001b[1;34m\u001b[0m\n\u001b[1;32m----> 1\u001b[1;33m \u001b[0mnp\u001b[0m\u001b[1;33m.\u001b[0m\u001b[0mmaximum\u001b[0m\u001b[1;33m(\u001b[0m\u001b[0masdf\u001b[0m\u001b[1;33m,\u001b[0m\u001b[0masd\u001b[0m\u001b[1;33m)\u001b[0m\u001b[1;33m\u001b[0m\u001b[1;33m\u001b[0m\u001b[0m\n\u001b[0m",
      "\u001b[1;31mValueError\u001b[0m: operands could not be broadcast together with shapes (6,) (16,8) "
     ]
    }
   ],
   "source": [
    "np.maximum(asdf,asd)"
   ]
  },
  {
   "cell_type": "code",
   "execution_count": 71,
   "id": "7626f958",
   "metadata": {},
   "outputs": [],
   "source": [
    "a=np.random.randint(-3,3,[3,2])"
   ]
  },
  {
   "cell_type": "code",
   "execution_count": 76,
   "id": "426ee6cf",
   "metadata": {},
   "outputs": [],
   "source": [
    "b=np.random.randint(-3,3,[3,2])"
   ]
  },
  {
   "cell_type": "code",
   "execution_count": 79,
   "id": "83d4f624",
   "metadata": {},
   "outputs": [
    {
     "data": {
      "text/plain": [
       "array([[ 1, -3],\n",
       "       [-3, -3],\n",
       "       [ 0,  0]])"
      ]
     },
     "execution_count": 79,
     "metadata": {},
     "output_type": "execute_result"
    }
   ],
   "source": [
    "a"
   ]
  },
  {
   "cell_type": "code",
   "execution_count": 80,
   "id": "4910105b",
   "metadata": {},
   "outputs": [
    {
     "data": {
      "text/plain": [
       "array([[-1, -3],\n",
       "       [-1,  1],\n",
       "       [ 0,  2]])"
      ]
     },
     "execution_count": 80,
     "metadata": {},
     "output_type": "execute_result"
    }
   ],
   "source": [
    "b"
   ]
  },
  {
   "cell_type": "code",
   "execution_count": null,
   "id": "136fcdf3",
   "metadata": {},
   "outputs": [],
   "source": []
  },
  {
   "cell_type": "code",
   "execution_count": 77,
   "id": "62affbc7",
   "metadata": {},
   "outputs": [
    {
     "data": {
      "text/plain": [
       "array([[ 1, -3],\n",
       "       [-1,  1],\n",
       "       [ 0,  2]])"
      ]
     },
     "execution_count": 77,
     "metadata": {},
     "output_type": "execute_result"
    }
   ],
   "source": [
    "np.maximum(a,b)"
   ]
  },
  {
   "cell_type": "code",
   "execution_count": 81,
   "id": "eae183a0",
   "metadata": {},
   "outputs": [
    {
     "data": {
      "text/plain": [
       "array([[ 1, -3],\n",
       "       [-1,  1],\n",
       "       [ 0,  2]])"
      ]
     },
     "execution_count": 81,
     "metadata": {},
     "output_type": "execute_result"
    }
   ],
   "source": [
    "np.fmax(a,b)"
   ]
  },
  {
   "cell_type": "code",
   "execution_count": 82,
   "id": "635477d9",
   "metadata": {},
   "outputs": [
    {
     "name": "stderr",
     "output_type": "stream",
     "text": [
      "C:\\Users\\HP\\AppData\\Local\\Temp/ipykernel_18436/3499680283.py:1: RuntimeWarning: divide by zero encountered in remainder\n",
      "  np.mod(a,b)\n"
     ]
    },
    {
     "data": {
      "text/plain": [
       "array([[0, 0],\n",
       "       [0, 0],\n",
       "       [0, 0]], dtype=int32)"
      ]
     },
     "execution_count": 82,
     "metadata": {},
     "output_type": "execute_result"
    }
   ],
   "source": [
    "np.mod(a,b)"
   ]
  },
  {
   "cell_type": "code",
   "execution_count": 83,
   "id": "296b0fec",
   "metadata": {},
   "outputs": [
    {
     "name": "stderr",
     "output_type": "stream",
     "text": [
      "C:\\Users\\HP\\AppData\\Local\\Temp/ipykernel_18436/2975056474.py:1: RuntimeWarning: divide by zero encountered in remainder\n",
      "  np.mod(b,a)\n"
     ]
    },
    {
     "data": {
      "text/plain": [
       "array([[ 0,  0],\n",
       "       [-1, -2],\n",
       "       [ 0,  0]], dtype=int32)"
      ]
     },
     "execution_count": 83,
     "metadata": {},
     "output_type": "execute_result"
    }
   ],
   "source": [
    "np.mod(b,a)"
   ]
  },
  {
   "cell_type": "code",
   "execution_count": 90,
   "id": "4404aabb",
   "metadata": {},
   "outputs": [],
   "source": [
    "asd=[6,1,2,3]"
   ]
  },
  {
   "cell_type": "code",
   "execution_count": 91,
   "id": "45d0672c",
   "metadata": {},
   "outputs": [],
   "source": [
    "asd=np.argsort(asd)"
   ]
  },
  {
   "cell_type": "code",
   "execution_count": 92,
   "id": "b12c8728",
   "metadata": {},
   "outputs": [
    {
     "data": {
      "text/plain": [
       "array([1, 2, 3, 0], dtype=int64)"
      ]
     },
     "execution_count": 92,
     "metadata": {},
     "output_type": "execute_result"
    }
   ],
   "source": [
    "asd"
   ]
  },
  {
   "cell_type": "code",
   "execution_count": 96,
   "id": "51ac4b43",
   "metadata": {},
   "outputs": [],
   "source": [
    "asd=np.array([1,4,1,5,6,7,7,8])"
   ]
  },
  {
   "cell_type": "code",
   "execution_count": 100,
   "id": "c22d33fe",
   "metadata": {},
   "outputs": [],
   "source": [
    "asd.sort()"
   ]
  },
  {
   "cell_type": "code",
   "execution_count": 101,
   "id": "90ae1f26",
   "metadata": {},
   "outputs": [
    {
     "data": {
      "text/plain": [
       "array([1, 1, 4, 5, 6, 7, 7, 8])"
      ]
     },
     "execution_count": 101,
     "metadata": {},
     "output_type": "execute_result"
    }
   ],
   "source": [
    "asd"
   ]
  },
  {
   "cell_type": "code",
   "execution_count": 102,
   "id": "83a492d5",
   "metadata": {},
   "outputs": [
    {
     "data": {
      "text/plain": [
       "array([1, 1, 4, 5, 6, 7, 7, 8])"
      ]
     },
     "execution_count": 102,
     "metadata": {},
     "output_type": "execute_result"
    }
   ],
   "source": [
    "np.sort(asd)"
   ]
  },
  {
   "cell_type": "code",
   "execution_count": null,
   "id": "e88a5247",
   "metadata": {},
   "outputs": [],
   "source": []
  },
  {
   "cell_type": "code",
   "execution_count": 5,
   "id": "fb01ccd9",
   "metadata": {},
   "outputs": [
    {
     "data": {
      "text/plain": [
       "'\\nasd\\n'"
      ]
     },
     "execution_count": 5,
     "metadata": {},
     "output_type": "execute_result"
    }
   ],
   "source": [
    "'''\n",
    "asd\n",
    "'''"
   ]
  },
  {
   "cell_type": "code",
   "execution_count": 6,
   "id": "279b1d6d",
   "metadata": {},
   "outputs": [],
   "source": [
    "#asd"
   ]
  },
  {
   "cell_type": "code",
   "execution_count": null,
   "id": "f5ce6f10",
   "metadata": {},
   "outputs": [],
   "source": []
  },
  {
   "cell_type": "code",
   "execution_count": 7,
   "id": "23ef2806",
   "metadata": {},
   "outputs": [
    {
     "data": {
      "text/plain": [
       "'you\\nsmwt'"
      ]
     },
     "execution_count": 7,
     "metadata": {},
     "output_type": "execute_result"
    }
   ],
   "source": [
    "'''you\n",
    "smwt'''"
   ]
  },
  {
   "cell_type": "code",
   "execution_count": null,
   "id": "7e0a26b5",
   "metadata": {},
   "outputs": [],
   "source": []
  },
  {
   "cell_type": "code",
   "execution_count": 8,
   "id": "d3ed8071",
   "metadata": {},
   "outputs": [],
   "source": [
    "a=1\n"
   ]
  },
  {
   "cell_type": "code",
   "execution_count": 9,
   "id": "c9b32b94",
   "metadata": {},
   "outputs": [],
   "source": [
    "b=a"
   ]
  },
  {
   "cell_type": "code",
   "execution_count": 10,
   "id": "06e2fced",
   "metadata": {},
   "outputs": [],
   "source": [
    "b=10"
   ]
  },
  {
   "cell_type": "code",
   "execution_count": 11,
   "id": "946a1a6e",
   "metadata": {},
   "outputs": [
    {
     "data": {
      "text/plain": [
       "1"
      ]
     },
     "execution_count": 11,
     "metadata": {},
     "output_type": "execute_result"
    }
   ],
   "source": [
    "a"
   ]
  },
  {
   "cell_type": "code",
   "execution_count": 12,
   "id": "1dd25480",
   "metadata": {},
   "outputs": [],
   "source": [
    "a=[1,2,3]"
   ]
  },
  {
   "cell_type": "code",
   "execution_count": 13,
   "id": "0c84c549",
   "metadata": {},
   "outputs": [],
   "source": [
    "b=a"
   ]
  },
  {
   "cell_type": "code",
   "execution_count": 14,
   "id": "5ad1bf19",
   "metadata": {},
   "outputs": [],
   "source": [
    "b[0]=100"
   ]
  },
  {
   "cell_type": "code",
   "execution_count": 15,
   "id": "1f41944a",
   "metadata": {},
   "outputs": [
    {
     "data": {
      "text/plain": [
       "[100, 2, 3]"
      ]
     },
     "execution_count": 15,
     "metadata": {},
     "output_type": "execute_result"
    }
   ],
   "source": [
    "a"
   ]
  },
  {
   "cell_type": "code",
   "execution_count": null,
   "id": "76438b53",
   "metadata": {},
   "outputs": [],
   "source": []
  },
  {
   "cell_type": "code",
   "execution_count": 72,
   "id": "a147d619",
   "metadata": {},
   "outputs": [],
   "source": [
    "import pandas as pd "
   ]
  },
  {
   "cell_type": "code",
   "execution_count": 73,
   "id": "cdc55d1f",
   "metadata": {},
   "outputs": [],
   "source": [
    "a=pd.Series([1,2,3])"
   ]
  },
  {
   "cell_type": "code",
   "execution_count": 74,
   "id": "e82645f3",
   "metadata": {},
   "outputs": [],
   "source": [
    "a[0]='asd'"
   ]
  },
  {
   "cell_type": "code",
   "execution_count": 75,
   "id": "f65c9f4d",
   "metadata": {},
   "outputs": [],
   "source": [
    "a=pd.Series([1,2,3],index=[0,1,2])"
   ]
  },
  {
   "cell_type": "code",
   "execution_count": 76,
   "id": "96d7df23",
   "metadata": {},
   "outputs": [],
   "source": [
    "a[0]='asd'"
   ]
  },
  {
   "cell_type": "code",
   "execution_count": 77,
   "id": "66fd86f9",
   "metadata": {},
   "outputs": [],
   "source": [
    "a=pd.Series([1,2,3],index=['x','y','z'])"
   ]
  },
  {
   "cell_type": "code",
   "execution_count": 78,
   "id": "67968b84",
   "metadata": {},
   "outputs": [],
   "source": [
    "a[0]=1"
   ]
  },
  {
   "cell_type": "code",
   "execution_count": 79,
   "id": "2cb72b80",
   "metadata": {},
   "outputs": [
    {
     "ename": "ValueError",
     "evalue": "invalid literal for int() with base 10: 'asd'",
     "output_type": "error",
     "traceback": [
      "\u001b[1;31m---------------------------------------------------------------------------\u001b[0m",
      "\u001b[1;31mKeyError\u001b[0m                                  Traceback (most recent call last)",
      "\u001b[1;32mD:\\ANACONDA\\lib\\site-packages\\pandas\\core\\series.py\u001b[0m in \u001b[0;36m__setitem__\u001b[1;34m(self, key, value)\u001b[0m\n\u001b[0;32m   1061\u001b[0m         \u001b[1;32mtry\u001b[0m\u001b[1;33m:\u001b[0m\u001b[1;33m\u001b[0m\u001b[1;33m\u001b[0m\u001b[0m\n\u001b[1;32m-> 1062\u001b[1;33m             \u001b[0mself\u001b[0m\u001b[1;33m.\u001b[0m\u001b[0m_set_with_engine\u001b[0m\u001b[1;33m(\u001b[0m\u001b[0mkey\u001b[0m\u001b[1;33m,\u001b[0m \u001b[0mvalue\u001b[0m\u001b[1;33m)\u001b[0m\u001b[1;33m\u001b[0m\u001b[1;33m\u001b[0m\u001b[0m\n\u001b[0m\u001b[0;32m   1063\u001b[0m         \u001b[1;32mexcept\u001b[0m \u001b[1;33m(\u001b[0m\u001b[0mKeyError\u001b[0m\u001b[1;33m,\u001b[0m \u001b[0mValueError\u001b[0m\u001b[1;33m)\u001b[0m\u001b[1;33m:\u001b[0m\u001b[1;33m\u001b[0m\u001b[1;33m\u001b[0m\u001b[0m\n",
      "\u001b[1;32mD:\\ANACONDA\\lib\\site-packages\\pandas\\core\\series.py\u001b[0m in \u001b[0;36m_set_with_engine\u001b[1;34m(self, key, value)\u001b[0m\n\u001b[0;32m   1094\u001b[0m         \u001b[1;31m# fails with AttributeError for IntervalIndex\u001b[0m\u001b[1;33m\u001b[0m\u001b[1;33m\u001b[0m\u001b[0m\n\u001b[1;32m-> 1095\u001b[1;33m         \u001b[0mloc\u001b[0m \u001b[1;33m=\u001b[0m \u001b[0mself\u001b[0m\u001b[1;33m.\u001b[0m\u001b[0mindex\u001b[0m\u001b[1;33m.\u001b[0m\u001b[0m_engine\u001b[0m\u001b[1;33m.\u001b[0m\u001b[0mget_loc\u001b[0m\u001b[1;33m(\u001b[0m\u001b[0mkey\u001b[0m\u001b[1;33m)\u001b[0m\u001b[1;33m\u001b[0m\u001b[1;33m\u001b[0m\u001b[0m\n\u001b[0m\u001b[0;32m   1096\u001b[0m         \u001b[1;31m# error: Argument 1 to \"validate_numeric_casting\" has incompatible type\u001b[0m\u001b[1;33m\u001b[0m\u001b[1;33m\u001b[0m\u001b[0m\n",
      "\u001b[1;32mD:\\ANACONDA\\lib\\site-packages\\pandas\\_libs\\index.pyx\u001b[0m in \u001b[0;36mpandas._libs.index.IndexEngine.get_loc\u001b[1;34m()\u001b[0m\n",
      "\u001b[1;32mD:\\ANACONDA\\lib\\site-packages\\pandas\\_libs\\index.pyx\u001b[0m in \u001b[0;36mpandas._libs.index.IndexEngine.get_loc\u001b[1;34m()\u001b[0m\n",
      "\u001b[1;32mpandas\\_libs\\hashtable_class_helper.pxi\u001b[0m in \u001b[0;36mpandas._libs.hashtable.PyObjectHashTable.get_item\u001b[1;34m()\u001b[0m\n",
      "\u001b[1;32mpandas\\_libs\\hashtable_class_helper.pxi\u001b[0m in \u001b[0;36mpandas._libs.hashtable.PyObjectHashTable.get_item\u001b[1;34m()\u001b[0m\n",
      "\u001b[1;31mKeyError\u001b[0m: 0",
      "\nDuring handling of the above exception, another exception occurred:\n",
      "\u001b[1;31mValueError\u001b[0m                                Traceback (most recent call last)",
      "\u001b[1;32m~\\AppData\\Local\\Temp/ipykernel_4756/315491224.py\u001b[0m in \u001b[0;36m<module>\u001b[1;34m\u001b[0m\n\u001b[1;32m----> 1\u001b[1;33m \u001b[0ma\u001b[0m\u001b[1;33m[\u001b[0m\u001b[1;36m0\u001b[0m\u001b[1;33m]\u001b[0m\u001b[1;33m=\u001b[0m\u001b[1;34m'asd'\u001b[0m\u001b[1;33m\u001b[0m\u001b[1;33m\u001b[0m\u001b[0m\n\u001b[0m",
      "\u001b[1;32mD:\\ANACONDA\\lib\\site-packages\\pandas\\core\\series.py\u001b[0m in \u001b[0;36m__setitem__\u001b[1;34m(self, key, value)\u001b[0m\n\u001b[0;32m   1065\u001b[0m             \u001b[1;32mif\u001b[0m \u001b[0mis_integer\u001b[0m\u001b[1;33m(\u001b[0m\u001b[0mkey\u001b[0m\u001b[1;33m)\u001b[0m \u001b[1;32mand\u001b[0m \u001b[0mself\u001b[0m\u001b[1;33m.\u001b[0m\u001b[0mindex\u001b[0m\u001b[1;33m.\u001b[0m\u001b[0minferred_type\u001b[0m \u001b[1;33m!=\u001b[0m \u001b[1;34m\"integer\"\u001b[0m\u001b[1;33m:\u001b[0m\u001b[1;33m\u001b[0m\u001b[1;33m\u001b[0m\u001b[0m\n\u001b[0;32m   1066\u001b[0m                 \u001b[1;31m# positional setter\u001b[0m\u001b[1;33m\u001b[0m\u001b[1;33m\u001b[0m\u001b[0m\n\u001b[1;32m-> 1067\u001b[1;33m                 \u001b[0mvalues\u001b[0m\u001b[1;33m[\u001b[0m\u001b[0mkey\u001b[0m\u001b[1;33m]\u001b[0m \u001b[1;33m=\u001b[0m \u001b[0mvalue\u001b[0m\u001b[1;33m\u001b[0m\u001b[1;33m\u001b[0m\u001b[0m\n\u001b[0m\u001b[0;32m   1068\u001b[0m             \u001b[1;32melse\u001b[0m\u001b[1;33m:\u001b[0m\u001b[1;33m\u001b[0m\u001b[1;33m\u001b[0m\u001b[0m\n\u001b[0;32m   1069\u001b[0m                 \u001b[1;31m# GH#12862 adding a new key to the Series\u001b[0m\u001b[1;33m\u001b[0m\u001b[1;33m\u001b[0m\u001b[0m\n",
      "\u001b[1;31mValueError\u001b[0m: invalid literal for int() with base 10: 'asd'"
     ]
    }
   ],
   "source": [
    "a[0]='asd'"
   ]
  },
  {
   "cell_type": "code",
   "execution_count": 48,
   "id": "fb9fdf22",
   "metadata": {},
   "outputs": [
    {
     "data": {
      "text/plain": [
       "0    1\n",
       "1    2\n",
       "2    3\n",
       "dtype: int64"
      ]
     },
     "execution_count": 48,
     "metadata": {},
     "output_type": "execute_result"
    }
   ],
   "source": [
    "a"
   ]
  },
  {
   "cell_type": "code",
   "execution_count": 49,
   "id": "590f97f7",
   "metadata": {},
   "outputs": [],
   "source": [
    "a[0]='asd'"
   ]
  },
  {
   "cell_type": "code",
   "execution_count": 51,
   "id": "050fc06a",
   "metadata": {},
   "outputs": [
    {
     "ename": "ValueError",
     "evalue": "invalid literal for int() with base 10: 'asd'",
     "output_type": "error",
     "traceback": [
      "\u001b[1;31m---------------------------------------------------------------------------\u001b[0m",
      "\u001b[1;31mKeyError\u001b[0m                                  Traceback (most recent call last)",
      "\u001b[1;32mD:\\ANACONDA\\lib\\site-packages\\pandas\\core\\series.py\u001b[0m in \u001b[0;36m__setitem__\u001b[1;34m(self, key, value)\u001b[0m\n\u001b[0;32m   1061\u001b[0m         \u001b[1;32mtry\u001b[0m\u001b[1;33m:\u001b[0m\u001b[1;33m\u001b[0m\u001b[1;33m\u001b[0m\u001b[0m\n\u001b[1;32m-> 1062\u001b[1;33m             \u001b[0mself\u001b[0m\u001b[1;33m.\u001b[0m\u001b[0m_set_with_engine\u001b[0m\u001b[1;33m(\u001b[0m\u001b[0mkey\u001b[0m\u001b[1;33m,\u001b[0m \u001b[0mvalue\u001b[0m\u001b[1;33m)\u001b[0m\u001b[1;33m\u001b[0m\u001b[1;33m\u001b[0m\u001b[0m\n\u001b[0m\u001b[0;32m   1063\u001b[0m         \u001b[1;32mexcept\u001b[0m \u001b[1;33m(\u001b[0m\u001b[0mKeyError\u001b[0m\u001b[1;33m,\u001b[0m \u001b[0mValueError\u001b[0m\u001b[1;33m)\u001b[0m\u001b[1;33m:\u001b[0m\u001b[1;33m\u001b[0m\u001b[1;33m\u001b[0m\u001b[0m\n",
      "\u001b[1;32mD:\\ANACONDA\\lib\\site-packages\\pandas\\core\\series.py\u001b[0m in \u001b[0;36m_set_with_engine\u001b[1;34m(self, key, value)\u001b[0m\n\u001b[0;32m   1094\u001b[0m         \u001b[1;31m# fails with AttributeError for IntervalIndex\u001b[0m\u001b[1;33m\u001b[0m\u001b[1;33m\u001b[0m\u001b[0m\n\u001b[1;32m-> 1095\u001b[1;33m         \u001b[0mloc\u001b[0m \u001b[1;33m=\u001b[0m \u001b[0mself\u001b[0m\u001b[1;33m.\u001b[0m\u001b[0mindex\u001b[0m\u001b[1;33m.\u001b[0m\u001b[0m_engine\u001b[0m\u001b[1;33m.\u001b[0m\u001b[0mget_loc\u001b[0m\u001b[1;33m(\u001b[0m\u001b[0mkey\u001b[0m\u001b[1;33m)\u001b[0m\u001b[1;33m\u001b[0m\u001b[1;33m\u001b[0m\u001b[0m\n\u001b[0m\u001b[0;32m   1096\u001b[0m         \u001b[1;31m# error: Argument 1 to \"validate_numeric_casting\" has incompatible type\u001b[0m\u001b[1;33m\u001b[0m\u001b[1;33m\u001b[0m\u001b[0m\n",
      "\u001b[1;32mD:\\ANACONDA\\lib\\site-packages\\pandas\\_libs\\index.pyx\u001b[0m in \u001b[0;36mpandas._libs.index.IndexEngine.get_loc\u001b[1;34m()\u001b[0m\n",
      "\u001b[1;32mD:\\ANACONDA\\lib\\site-packages\\pandas\\_libs\\index.pyx\u001b[0m in \u001b[0;36mpandas._libs.index.IndexEngine.get_loc\u001b[1;34m()\u001b[0m\n",
      "\u001b[1;32mpandas\\_libs\\hashtable_class_helper.pxi\u001b[0m in \u001b[0;36mpandas._libs.hashtable.PyObjectHashTable.get_item\u001b[1;34m()\u001b[0m\n",
      "\u001b[1;32mpandas\\_libs\\hashtable_class_helper.pxi\u001b[0m in \u001b[0;36mpandas._libs.hashtable.PyObjectHashTable.get_item\u001b[1;34m()\u001b[0m\n",
      "\u001b[1;31mKeyError\u001b[0m: 0",
      "\nDuring handling of the above exception, another exception occurred:\n",
      "\u001b[1;31mValueError\u001b[0m                                Traceback (most recent call last)",
      "\u001b[1;32m~\\AppData\\Local\\Temp/ipykernel_4756/3017411279.py\u001b[0m in \u001b[0;36m<module>\u001b[1;34m\u001b[0m\n\u001b[1;32m----> 1\u001b[1;33m \u001b[0ma\u001b[0m\u001b[1;33m[\u001b[0m\u001b[1;36m0\u001b[0m\u001b[1;33m]\u001b[0m\u001b[1;33m=\u001b[0m\u001b[1;34m\"asd\"\u001b[0m\u001b[1;33m\u001b[0m\u001b[1;33m\u001b[0m\u001b[0m\n\u001b[0m",
      "\u001b[1;32mD:\\ANACONDA\\lib\\site-packages\\pandas\\core\\series.py\u001b[0m in \u001b[0;36m__setitem__\u001b[1;34m(self, key, value)\u001b[0m\n\u001b[0;32m   1065\u001b[0m             \u001b[1;32mif\u001b[0m \u001b[0mis_integer\u001b[0m\u001b[1;33m(\u001b[0m\u001b[0mkey\u001b[0m\u001b[1;33m)\u001b[0m \u001b[1;32mand\u001b[0m \u001b[0mself\u001b[0m\u001b[1;33m.\u001b[0m\u001b[0mindex\u001b[0m\u001b[1;33m.\u001b[0m\u001b[0minferred_type\u001b[0m \u001b[1;33m!=\u001b[0m \u001b[1;34m\"integer\"\u001b[0m\u001b[1;33m:\u001b[0m\u001b[1;33m\u001b[0m\u001b[1;33m\u001b[0m\u001b[0m\n\u001b[0;32m   1066\u001b[0m                 \u001b[1;31m# positional setter\u001b[0m\u001b[1;33m\u001b[0m\u001b[1;33m\u001b[0m\u001b[0m\n\u001b[1;32m-> 1067\u001b[1;33m                 \u001b[0mvalues\u001b[0m\u001b[1;33m[\u001b[0m\u001b[0mkey\u001b[0m\u001b[1;33m]\u001b[0m \u001b[1;33m=\u001b[0m \u001b[0mvalue\u001b[0m\u001b[1;33m\u001b[0m\u001b[1;33m\u001b[0m\u001b[0m\n\u001b[0m\u001b[0;32m   1068\u001b[0m             \u001b[1;32melse\u001b[0m\u001b[1;33m:\u001b[0m\u001b[1;33m\u001b[0m\u001b[1;33m\u001b[0m\u001b[0m\n\u001b[0;32m   1069\u001b[0m                 \u001b[1;31m# GH#12862 adding a new key to the Series\u001b[0m\u001b[1;33m\u001b[0m\u001b[1;33m\u001b[0m\u001b[0m\n",
      "\u001b[1;31mValueError\u001b[0m: invalid literal for int() with base 10: 'asd'"
     ]
    }
   ],
   "source": [
    "a[0]=\"asd\""
   ]
  },
  {
   "cell_type": "code",
   "execution_count": null,
   "id": "080fdad2",
   "metadata": {},
   "outputs": [],
   "source": []
  },
  {
   "cell_type": "code",
   "execution_count": 50,
   "id": "cf2f54ee",
   "metadata": {},
   "outputs": [],
   "source": [
    "a=pd.Series([1,2,3],index=[\"x\",'y',\"z\"])"
   ]
  },
  {
   "cell_type": "code",
   "execution_count": 30,
   "id": "fffb6976",
   "metadata": {},
   "outputs": [
    {
     "data": {
      "text/plain": [
       "x    1\n",
       "y    2\n",
       "z    3\n",
       "dtype: int64"
      ]
     },
     "execution_count": 30,
     "metadata": {},
     "output_type": "execute_result"
    }
   ],
   "source": [
    "a"
   ]
  },
  {
   "cell_type": "code",
   "execution_count": 44,
   "id": "3593b4e9",
   "metadata": {},
   "outputs": [],
   "source": [
    "a[0]=2"
   ]
  },
  {
   "cell_type": "code",
   "execution_count": 45,
   "id": "052953e2",
   "metadata": {},
   "outputs": [
    {
     "data": {
      "text/plain": [
       "x    2\n",
       "y    2\n",
       "z    3\n",
       "dtype: int64"
      ]
     },
     "execution_count": 45,
     "metadata": {},
     "output_type": "execute_result"
    }
   ],
   "source": [
    "a"
   ]
  },
  {
   "cell_type": "code",
   "execution_count": null,
   "id": "697a2baa",
   "metadata": {},
   "outputs": [],
   "source": []
  },
  {
   "cell_type": "code",
   "execution_count": 25,
   "id": "52ec1987",
   "metadata": {},
   "outputs": [
    {
     "data": {
      "text/plain": [
       "x    asd\n",
       "y      2\n",
       "z      3\n",
       "dtype: object"
      ]
     },
     "execution_count": 25,
     "metadata": {},
     "output_type": "execute_result"
    }
   ],
   "source": [
    "a"
   ]
  },
  {
   "cell_type": "code",
   "execution_count": 26,
   "id": "fa36f0ac",
   "metadata": {},
   "outputs": [
    {
     "data": {
      "text/plain": [
       "3"
      ]
     },
     "execution_count": 26,
     "metadata": {},
     "output_type": "execute_result"
    }
   ],
   "source": [
    "a[-1]"
   ]
  },
  {
   "cell_type": "code",
   "execution_count": 27,
   "id": "f73261ea",
   "metadata": {},
   "outputs": [
    {
     "data": {
      "text/plain": [
       "'asd'"
      ]
     },
     "execution_count": 27,
     "metadata": {},
     "output_type": "execute_result"
    }
   ],
   "source": [
    "a[0]"
   ]
  },
  {
   "cell_type": "code",
   "execution_count": 28,
   "id": "a2e710b5",
   "metadata": {},
   "outputs": [],
   "source": [
    "a[0]='asd'"
   ]
  },
  {
   "cell_type": "code",
   "execution_count": 80,
   "id": "45e1f885",
   "metadata": {},
   "outputs": [],
   "source": [
    "data={'site':['asd','fgh','jkl'],'age':[10,11,12]}"
   ]
  },
  {
   "cell_type": "code",
   "execution_count": 81,
   "id": "adf25ede",
   "metadata": {},
   "outputs": [],
   "source": [
    "df=pd.DataFrame(data)"
   ]
  },
  {
   "cell_type": "code",
   "execution_count": 83,
   "id": "3460fe98",
   "metadata": {},
   "outputs": [
    {
     "data": {
      "text/html": [
       "<div>\n",
       "<style scoped>\n",
       "    .dataframe tbody tr th:only-of-type {\n",
       "        vertical-align: middle;\n",
       "    }\n",
       "\n",
       "    .dataframe tbody tr th {\n",
       "        vertical-align: top;\n",
       "    }\n",
       "\n",
       "    .dataframe thead th {\n",
       "        text-align: right;\n",
       "    }\n",
       "</style>\n",
       "<table border=\"1\" class=\"dataframe\">\n",
       "  <thead>\n",
       "    <tr style=\"text-align: right;\">\n",
       "      <th></th>\n",
       "      <th>site</th>\n",
       "      <th>age</th>\n",
       "    </tr>\n",
       "  </thead>\n",
       "  <tbody>\n",
       "    <tr>\n",
       "      <th>0</th>\n",
       "      <td>asd</td>\n",
       "      <td>10</td>\n",
       "    </tr>\n",
       "    <tr>\n",
       "      <th>1</th>\n",
       "      <td>fgh</td>\n",
       "      <td>11</td>\n",
       "    </tr>\n",
       "  </tbody>\n",
       "</table>\n",
       "</div>"
      ],
      "text/plain": [
       "  site  age\n",
       "0  asd   10\n",
       "1  fgh   11"
      ]
     },
     "execution_count": 83,
     "metadata": {},
     "output_type": "execute_result"
    }
   ],
   "source": [
    "df.loc[[0,1]]"
   ]
  },
  {
   "cell_type": "code",
   "execution_count": null,
   "id": "1ce7e27f",
   "metadata": {},
   "outputs": [],
   "source": []
  },
  {
   "cell_type": "code",
   "execution_count": 87,
   "id": "61c62117",
   "metadata": {},
   "outputs": [],
   "source": [
    "ad=\"E:\\desktop\\核心（新版）\\10.知识图谱\\医疗知识图谱资料\\05医疗知识图谱问答机器人\\QAMedicalKG\\data\\medical.json\""
   ]
  },
  {
   "cell_type": "code",
   "execution_count": 98,
   "id": "5892f471",
   "metadata": {},
   "outputs": [],
   "source": [
    "df=pd.read_json(r\"E:\\desktop\\核心（新版）\\10.知识图谱\\医疗知识图谱资料\\05医疗知识图谱问答机器人\\QAMedicalKG\\data\\medical.json\",lines=True)"
   ]
  },
  {
   "cell_type": "code",
   "execution_count": 104,
   "id": "b35ea6fa",
   "metadata": {},
   "outputs": [
    {
     "name": "stdout",
     "output_type": "stream",
     "text": [
      "                                    _id       name  \\\n",
      "0  {'$oid': '5bb578b6831b973a137e3ee6'}   肺泡蛋白质沉积症   \n",
      "1  {'$oid': '5bb578b6831b973a137e3ee7'}        百日咳   \n",
      "2  {'$oid': '5bb578b6831b973a137e3ee8'}        苯中毒   \n",
      "3  {'$oid': '5bb578b6831b973a137e3ee9'}    喘息样支气管炎   \n",
      "4  {'$oid': '5bb578b6831b973a137e3eea'}  成人呼吸窘迫综合征   \n",
      "\n",
      "                                                desc          category  \\\n",
      "0  肺泡蛋白质沉积症(简称PAP)，又称Rosen-Castle-man-Liebow综合征，是...  [疾病百科, 内科, 呼吸内科]   \n",
      "1  百日咳(pertussis，whoopingcough)是由百日咳杆菌所致的急性呼吸道传染病...  [疾病百科, 儿科, 小儿内科]   \n",
      "2  苯(benzene)是从煤焦油分馏及石油裂解所得的一种芳香烃化合物，系无色有芳香气味的油状液...       [疾病百科, 急诊科]   \n",
      "3  喘息样支气管炎(asthmatoidbronchitis)又称哮喘性支气管炎，泛指一组喘息表...  [疾病百科, 内科, 呼吸内科]   \n",
      "4  成人呼吸窘迫综合征简称ARDS，是一种继发的，以急性呼吸窘迫和低氧血症为特征的综合征。又称休...  [疾病百科, 内科, 呼吸内科]   \n",
      "\n",
      "                                             prevent  \\\n",
      "0       1、避免感染分支杆菌病，卡氏肺囊肿肺炎，巨细胞病毒等。\\n2、注意锻炼身体，提高免疫力。   \n",
      "1  1、控制传染源：在流行季节，若有前驱症状应及早抗生素治疗。\\n2、切断传播途径：由于百日咳杆...   \n",
      "2  对于急性中毒患者，可以立即脱离现场至空气新鲜处，脱去污染的衣着，并用肥皂水或清水冲洗污染的皮...   \n",
      "3  根据上节所述，对喘息样支气管炎病儿，要注意家族与患儿自身过敏史，嗜酸性粒细胞检查，血清IgE...   \n",
      "4  对高危的患者应严密观察，加强监护，当发现呼吸频速，PaO2降低等肺损伤表现，应早期给予呼吸支...   \n",
      "\n",
      "                                               cause  \\\n",
      "0  病因未明，推测与几方面因素有关：如大量粉尘吸入（铝，二氧化硅等），机体免疫功能下降（尤其婴幼...   \n",
      "1  (一)发病原因\\n病原菌是鲍特菌属(Bordetella)中的百日咳鲍特菌(B.pertus...   \n",
      "2  吸入苯蒸气或皮肤接触苯而引起的中毒，有急性、慢性之分。急性苯中毒主要对中枢神经系统产生麻醉作...   \n",
      "3  因为多种病毒和细菌感染均可引起，较常见的有合胞病毒、副流感病毒、流感病毒、腺病毒、鼻病毒及肺...   \n",
      "4  化脓性感染可使细菌毒素或细胞破溃产物进入肺循环。在内毒素作用下，体内释放出血管活性物质，能使...   \n",
      "\n",
      "                                             symptom yibao_status  get_prob  \\\n",
      "0                             [紫绀, 胸痛, 呼吸困难, 乏力, 毓卓]            否  0.00002%   \n",
      "1         [吸气时有蝉鸣音, 痉挛性咳嗽, 胸闷, 肺阴虚, 抽搐, 低热, 闫鹏辉, 惊厥]            否      0.5%   \n",
      "2                                     [恶心, 抽搐, 感觉障碍]            否    0.065%   \n",
      "3  [耸肩喘息, 哮鸣音, 纤毛上皮细胞损伤脱落, 变应性咳嗽, 化学性支气管炎, 喘息, 冬春...            否      3-5%   \n",
      "4                                [呼吸困难, 紫绀, 心源性呼吸窘迫]            否        3%   \n",
      "\n",
      "  get_way  ... cured_prob                               cost_money  \\\n",
      "0    无传染性  ...       约40%   根据不同医院，收费标准不一致，省市三甲医院约（ 8000——15000 元）   \n",
      "1   呼吸道传播  ...        98%        根据不同医院，收费标准不一致，市三甲医院约（1000-4000元）   \n",
      "2    无传染性  ...        75%  根据不同病情，不同医院，收费标准不一致，市三甲医院约（5000——8000元）   \n",
      "3    无传染性  ...        95%       根据不同医院，收费标准不一致，市三甲医院约（5000——8000元）   \n",
      "4    无传染性  ...        85%      根据不同医院，收费标准不一致，市三甲医院约（5000——20000元）   \n",
      "\n",
      "                                               check  \\\n",
      "0                              [胸部CT检查, 肺活检, 支气管镜检查]   \n",
      "1  [耳、鼻、咽拭子细菌培养, 周围血白细胞计数及分类检验, 血常规, 酶联免疫吸附试验, 白细...   \n",
      "2                                [血常规, 骨髓象分析, 先令氏指数]   \n",
      "3    [肺部检查, 肺和胸膜听诊, 抗链球菌型M蛋白抗体, 抗链球菌壁多糖抗体, 酶联免疫吸附试验]   \n",
      "4   [胸部CT检查, 呼吸肌功能测定, 血浆蛋白C抗原, 肺泡气-动脉血氧分压差, 肺毛细血管楔压]   \n",
      "\n",
      "                                      recommand_drug  \\\n",
      "0                                                 []   \n",
      "1   [琥乙红霉素片, 琥乙红霉素颗粒, 百咳静糖浆, 穿心莲内酯片, 红霉素肠溶片, 环酯红霉素片]   \n",
      "2  [布美他尼片, 十一味金色丸, 注射用布美他尼, 注射用呋塞米, 盐酸利多卡因注射液, 注射...   \n",
      "3  [枸橼酸喷托维林片, 氨茶碱片, 二羟丙茶碱片, 胸腺肽肠溶片, 硫酸沙丁胺醇气雾剂, 小青...   \n",
      "4        [注射用还原型谷胱甘肽钠, 注射用盐酸氨溴索, 人血白蛋白, 盐酸氨溴索葡萄糖注射液]   \n",
      "\n",
      "                                         drug_detail           easy_get  \\\n",
      "0                                                 []                NaN   \n",
      "1  [惠普森穿心莲内酯片(穿心莲内酯片), 北京同仁堂百咳静糖浆(百咳静糖浆), 邦琪药业百咳静...              多见于小儿   \n",
      "2  [桂林南药布美他尼片(布美他尼片), 雄巴拉曲神水十一味金色丸(十一味金色丸), 西藏甘露仁...  多见于制鞋工人及接触化工染料的工人   \n",
      "3  [信谊布地奈德气雾剂(布地奈德气雾剂), 桑海制药喷托维林氯化铵糖浆(喷托维林氯化铵糖浆),...             无特定的人群   \n",
      "4  [莱士人血白蛋白(人血白蛋白), 卫光生物人血白蛋白(人血白蛋白), 泰邦生物人血白蛋白(人...              无特定人群   \n",
      "\n",
      "            common_drug                  do_eat                    not_eat  \\\n",
      "0                   NaN                     NaN                        NaN   \n",
      "1       [穿心莲内酯片, 百咳静糖浆]  [南瓜子仁, 圆白菜, 樱桃番茄, 小白菜]           [螃蟹, 海蟹, 海虾, 海螺]   \n",
      "2       [布美他尼片, 十一味金色丸]   [鸡蛋, 大豆, 猪肉(瘦), 樱桃番茄]  [海蟹, 海虾, 海参（水浸）, 辣椒(青、尖)]   \n",
      "3  [布地奈德气雾剂, 喷托维林氯化铵糖浆]       [鸡蛋, 海蚌, 赤贝, 圆白菜]       [海蟹, 海虾, 海螺, 猪肉(肥瘦)]   \n",
      "4  [人血白蛋白, 注射用还原型谷胱甘肽钠]       [莲子, 生菜, 山药, 空心菜]    [啤酒, 白酒, 洋葱, 辣椒(红、尖、干)]   \n",
      "\n",
      "                                       recommand_eat  \n",
      "0                                                NaN  \n",
      "1  [清蒸鸡蛋羹, 百合双耳鸡蛋羹, 排骨汤, 罗汉果雪耳鸡汤, 小黄瓜凉拌面, 黄瓜三丝汤, ...  \n",
      "2                             [豆腐干炒韭菜, 素炒小白菜, 白菜蛋花粥]  \n",
      "3   [紫苏粥, 菊花芦根茶, 生芦根粥, 鲜芦根粥, 薏仁党参粥, 党参粥, 黄芪粥, 鸡蛋木耳粥]  \n",
      "4  [百合糖粥, 百合粥, 百合花生汤, 首乌百合粥, 薏米莲子粥, 牛奶玉米汤, 萝卜豆腐汤,...  \n",
      "\n",
      "[5 rows x 24 columns]\n"
     ]
    }
   ],
   "source": [
    "print(df.head())"
   ]
  }
 ],
 "metadata": {
  "kernelspec": {
   "display_name": "Python 3 (ipykernel)",
   "language": "python",
   "name": "python3"
  },
  "language_info": {
   "codemirror_mode": {
    "name": "ipython",
    "version": 3
   },
   "file_extension": ".py",
   "mimetype": "text/x-python",
   "name": "python",
   "nbconvert_exporter": "python",
   "pygments_lexer": "ipython3",
   "version": "3.9.7"
  }
 },
 "nbformat": 4,
 "nbformat_minor": 5
}
